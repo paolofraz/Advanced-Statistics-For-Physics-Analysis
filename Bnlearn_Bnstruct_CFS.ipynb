{
 "cells": [
  {
   "cell_type": "markdown",
   "metadata": {},
   "source": [
    "# Learning the topology of a Bayesian network from a database of cases using the K2 algorithm\n",
    "### Advanced Statistics for Physical Analysis @ Physics of Data, UniPD - 29/7/2019\n",
    "#### Chimenti Alberto, Frazzetto Paolo, Vincenzo Schimmenti\n",
    "---"
   ]
  },
  {
   "cell_type": "markdown",
   "metadata": {},
   "source": [
    "## Import and Update Packages"
   ]
  },
  {
   "cell_type": "code",
   "execution_count": null,
   "metadata": {
    "ExecuteTime": {
     "start_time": "2019-07-26T15:51:26.927Z"
    },
    "scrolled": false
   },
   "outputs": [
    {
     "name": "stdout",
     "output_type": "stream",
     "text": [
      "package 'bnstruct' successfully unpacked and MD5 sums checked\n",
      "\n",
      "The downloaded binary packages are in\n",
      "\tC:\\Users\\Paolo\\AppData\\Local\\Temp\\RtmpSCCIIS\\downloaded_packages\n"
     ]
    }
   ],
   "source": [
    "# Install the required packages \n",
    "\n",
    "install.packages('bnstruct', repo=\"https://cran.stat.unipd.it/\")\n",
    "install.packages('bnlearn', repo=\"https://cran.stat.unipd.it/\")\n",
    "\n",
    "if (!requireNamespace(\"BiocManager\", quietly = TRUE))\n",
    "    install.packages(\"BiocManager\")\n",
    "BiocManager::install()\n",
    "\n",
    "BiocManager::install(c(\"graph\", \"Rgraphviz\"))"
   ]
  },
  {
   "cell_type": "code",
   "execution_count": 1,
   "metadata": {
    "ExecuteTime": {
     "end_time": "2019-07-28T09:30:59.016919Z",
     "start_time": "2019-07-28T09:29:23.168Z"
    }
   },
   "outputs": [
    {
     "name": "stdout",
     "output_type": "stream",
     "text": [
      "\n",
      "  There are binary versions available but the source versions are later:\n",
      "          binary source needs_compilation\n",
      "foreach    1.4.4  1.4.7             FALSE\n",
      "iterators 1.0.10 1.0.12             FALSE\n",
      "\n"
     ]
    },
    {
     "name": "stderr",
     "output_type": "stream",
     "text": [
      "Warning message:\n",
      "\"package 'formatR' is in use and will not be installed\""
     ]
    },
    {
     "name": "stdout",
     "output_type": "stream",
     "text": [
      "package 'askpass' successfully unpacked and MD5 sums checked\n",
      "package 'boot' successfully unpacked and MD5 sums checked\n",
      "package 'callr' successfully unpacked and MD5 sums checked\n",
      "package 'caret' successfully unpacked and MD5 sums checked\n",
      "package 'clipr' successfully unpacked and MD5 sums checked\n",
      "package 'cluster' successfully unpacked and MD5 sums checked\n",
      "package 'curl' successfully unpacked and MD5 sums checked\n",
      "package 'dbplyr' successfully unpacked and MD5 sums checked\n",
      "package 'digest' successfully unpacked and MD5 sums checked\n"
     ]
    },
    {
     "name": "stderr",
     "output_type": "stream",
     "text": [
      "Warning message:\n",
      "\"cannot remove prior installation of package 'digest'\""
     ]
    },
    {
     "name": "stdout",
     "output_type": "stream",
     "text": [
      "package 'dplyr' successfully unpacked and MD5 sums checked\n",
      "package 'ellipsis' successfully unpacked and MD5 sums checked\n",
      "package 'evaluate' successfully unpacked and MD5 sums checked\n",
      "package 'fs' successfully unpacked and MD5 sums checked\n",
      "package 'ggplot2' successfully unpacked and MD5 sums checked\n",
      "package 'glmnet' successfully unpacked and MD5 sums checked\n",
      "package 'gower' successfully unpacked and MD5 sums checked\n",
      "package 'haven' successfully unpacked and MD5 sums checked\n",
      "package 'hexbin' successfully unpacked and MD5 sums checked\n",
      "package 'hms' successfully unpacked and MD5 sums checked\n",
      "package 'ipred' successfully unpacked and MD5 sums checked\n",
      "package 'IRkernel' successfully unpacked and MD5 sums checked\n",
      "package 'knitr' successfully unpacked and MD5 sums checked\n",
      "package 'markdown' successfully unpacked and MD5 sums checked\n",
      "package 'MASS' successfully unpacked and MD5 sums checked\n",
      "package 'mime' successfully unpacked and MD5 sums checked\n",
      "package 'nlme' successfully unpacked and MD5 sums checked\n",
      "package 'numDeriv' successfully unpacked and MD5 sums checked\n",
      "package 'openssl' successfully unpacked and MD5 sums checked\n",
      "package 'pillar' successfully unpacked and MD5 sums checked\n",
      "package 'processx' successfully unpacked and MD5 sums checked\n",
      "package 'progress' successfully unpacked and MD5 sums checked\n",
      "package 'quantmod' successfully unpacked and MD5 sums checked\n",
      "package 'Rcpp' successfully unpacked and MD5 sums checked\n"
     ]
    },
    {
     "name": "stderr",
     "output_type": "stream",
     "text": [
      "Warning message:\n",
      "\"cannot remove prior installation of package 'Rcpp'\""
     ]
    },
    {
     "name": "stdout",
     "output_type": "stream",
     "text": [
      "package 'recipes' successfully unpacked and MD5 sums checked\n",
      "package 'repr' successfully unpacked and MD5 sums checked\n",
      "package 'reprex' successfully unpacked and MD5 sums checked\n",
      "package 'rlang' successfully unpacked and MD5 sums checked\n",
      "package 'rmarkdown' successfully unpacked and MD5 sums checked\n",
      "package 'rvest' successfully unpacked and MD5 sums checked\n",
      "package 'tibble' successfully unpacked and MD5 sums checked\n",
      "package 'tinytex' successfully unpacked and MD5 sums checked\n",
      "package 'xfun' successfully unpacked and MD5 sums checked\n",
      "package 'zoo' successfully unpacked and MD5 sums checked\n",
      "\n",
      "The downloaded binary packages are in\n",
      "\tC:\\Users\\Paolo\\AppData\\Local\\Temp\\RtmpQRgp8H\\downloaded_packages\n"
     ]
    },
    {
     "name": "stderr",
     "output_type": "stream",
     "text": [
      "installing the source packages 'foreach', 'iterators'\n",
      "\n"
     ]
    }
   ],
   "source": [
    "update.packages(ask = FALSE) # uncomment to update all"
   ]
  },
  {
   "cell_type": "markdown",
   "metadata": {},
   "source": [
    "## Load Dataset"
   ]
  },
  {
   "cell_type": "markdown",
   "metadata": {},
   "source": [
    "Load the basic dataset used in the handout _Illustration of the K2 Algorithm for Learning Bayes Net Structures_ by Prof. Carolina Ruiz.\n"
   ]
  },
  {
   "cell_type": "code",
   "execution_count": 6,
   "metadata": {
    "ExecuteTime": {
     "end_time": "2019-07-26T16:17:13.718854Z",
     "start_time": "2019-07-26T16:17:13.579Z"
    }
   },
   "outputs": [
    {
     "data": {
      "text/html": [
       "<table>\n",
       "<thead><tr><th scope=col>x1</th><th scope=col>x2</th><th scope=col>x3</th></tr></thead>\n",
       "<tbody>\n",
       "\t<tr><td>1</td><td>0</td><td>0</td></tr>\n",
       "\t<tr><td>1</td><td>1</td><td>1</td></tr>\n",
       "\t<tr><td>0</td><td>0</td><td>1</td></tr>\n",
       "\t<tr><td>1</td><td>1</td><td>1</td></tr>\n",
       "\t<tr><td>0</td><td>0</td><td>0</td></tr>\n",
       "\t<tr><td>0</td><td>1</td><td>1</td></tr>\n",
       "\t<tr><td>1</td><td>1</td><td>1</td></tr>\n",
       "\t<tr><td>0</td><td>0</td><td>0</td></tr>\n",
       "\t<tr><td>1</td><td>1</td><td>1</td></tr>\n",
       "\t<tr><td>0</td><td>0</td><td>0</td></tr>\n",
       "</tbody>\n",
       "</table>\n"
      ],
      "text/latex": [
       "\\begin{tabular}{r|lll}\n",
       " x1 & x2 & x3\\\\\n",
       "\\hline\n",
       "\t 1 & 0 & 0\\\\\n",
       "\t 1 & 1 & 1\\\\\n",
       "\t 0 & 0 & 1\\\\\n",
       "\t 1 & 1 & 1\\\\\n",
       "\t 0 & 0 & 0\\\\\n",
       "\t 0 & 1 & 1\\\\\n",
       "\t 1 & 1 & 1\\\\\n",
       "\t 0 & 0 & 0\\\\\n",
       "\t 1 & 1 & 1\\\\\n",
       "\t 0 & 0 & 0\\\\\n",
       "\\end{tabular}\n"
      ],
      "text/markdown": [
       "\n",
       "| x1 | x2 | x3 |\n",
       "|---|---|---|\n",
       "| 1 | 0 | 0 |\n",
       "| 1 | 1 | 1 |\n",
       "| 0 | 0 | 1 |\n",
       "| 1 | 1 | 1 |\n",
       "| 0 | 0 | 0 |\n",
       "| 0 | 1 | 1 |\n",
       "| 1 | 1 | 1 |\n",
       "| 0 | 0 | 0 |\n",
       "| 1 | 1 | 1 |\n",
       "| 0 | 0 | 0 |\n",
       "\n"
      ],
      "text/plain": [
       "   x1 x2 x3\n",
       "1  1  0  0 \n",
       "2  1  1  1 \n",
       "3  0  0  1 \n",
       "4  1  1  1 \n",
       "5  0  0  0 \n",
       "6  0  1  1 \n",
       "7  1  1  1 \n",
       "8  0  0  0 \n",
       "9  1  1  1 \n",
       "10 0  0  0 "
      ]
     },
     "metadata": {},
     "output_type": "display_data"
    }
   ],
   "source": [
    "df <- data.frame(\"x1\" = factor(c(1,1,0,1,0,0,1,0,1,0)), \"x2\" = factor(c(0,1,0,1,0,1,1,0,1,0)), \"x3\" = factor(c(0,1,1,1,0,1,1,0,1,0)) ) # Ruiz's dataset\n",
    "df"
   ]
  },
  {
   "cell_type": "code",
   "execution_count": 2,
   "metadata": {
    "ExecuteTime": {
     "end_time": "2019-07-26T16:03:27.863557Z",
     "start_time": "2019-07-26T16:03:27.745Z"
    }
   },
   "outputs": [
    {
     "name": "stdout",
     "output_type": "stream",
     "text": [
      "'data.frame':\t10 obs. of  3 variables:\n",
      " $ x1: Factor w/ 2 levels \"0\",\"1\": 2 2 1 2 1 1 2 1 2 1\n",
      " $ x2: Factor w/ 2 levels \"0\",\"1\": 1 2 1 2 1 2 2 1 2 1\n",
      " $ x3: Factor w/ 2 levels \"0\",\"1\": 1 2 2 2 1 2 2 1 2 1\n"
     ]
    }
   ],
   "source": [
    "str(df)"
   ]
  },
  {
   "cell_type": "markdown",
   "metadata": {},
   "source": [
    "Alternatively, load the toy dataset _Asia_ contained in the _bnstruct_ library.\n",
    "This dataset originally appeared in the paper _Local Computations with Probabilities on Graphical Structures and Their Application to Expert Systems_ by S. L. Lauritzen and D. J. Spiegelhalter (1988) and it addresses the following scenario:\n",
    "\n",
    ">Shortness-of-breath (dyspnoea) may be due to tuberculosis, lung cancer or\n",
    " bronchitis, or none of them, or more than one of them. A recent visit to Asia\n",
    " increases the chances of tuberculosis, while smoking is known to be a risk factor\n",
    " for both lung cancer and bronchitis. The results of a single chest X-ray do not\n",
    " discriminate between lung cancer and tuberculosis, as neither does the presence\n",
    " or absence of dyspnoea.\n",
    "\n",
    "The structure of our knowledge-base is represented by the below directed graph:\n",
    "![title](Asia.png)"
   ]
  },
  {
   "cell_type": "code",
   "execution_count": 1,
   "metadata": {
    "ExecuteTime": {
     "end_time": "2019-07-27T10:34:58.459179Z",
     "start_time": "2019-07-27T10:34:53.356Z"
    }
   },
   "outputs": [
    {
     "name": "stderr",
     "output_type": "stream",
     "text": [
      "Warning message:\n",
      "\"package 'bnstruct' was built under R version 3.6.1\"Loading required package: bitops\n",
      "Loading required package: Matrix\n",
      "Loading required package: igraph\n",
      "\n",
      "Attaching package: 'igraph'\n",
      "\n",
      "The following objects are masked from 'package:stats':\n",
      "\n",
      "    decompose, spectrum\n",
      "\n",
      "The following object is masked from 'package:base':\n",
      "\n",
      "    union\n",
      "\n"
     ]
    }
   ],
   "source": [
    "library(\"bnstruct\")"
   ]
  },
  {
   "cell_type": "code",
   "execution_count": 2,
   "metadata": {
    "ExecuteTime": {
     "end_time": "2019-07-27T10:34:59.209173Z",
     "start_time": "2019-07-27T10:34:54.080Z"
    }
   },
   "outputs": [
    {
     "name": "stdout",
     "output_type": "stream",
     "text": [
      "\n",
      "Dataset: \n",
      "\n",
      "num.variables 8\n",
      "\n",
      "variables\n",
      "Asia Tubercolosys Smoke LungCancer Bronchitis Either X-ray Dyspnea\n",
      "discreteness\n",
      "TRUE TRUE TRUE TRUE TRUE TRUE TRUE TRUE\n",
      "node.sizes\n",
      "2 2 2 2 2 2 2 2\n",
      "num.items\n",
      "10000\n",
      "imputation\n",
      "FALSE\n",
      "has.boots\n",
      "FALSE\n",
      "has.imputed.boots\n",
      "FALSE\n",
      "num.boots\n",
      "0\n"
     ]
    }
   ],
   "source": [
    "df <- asia() # loaded as BNDataset\n",
    "bn.dataset <- asia() \n",
    "print(df)\n",
    "layers <- c(1,2,1,2,2,3,4,4)"
   ]
  },
  {
   "cell_type": "code",
   "execution_count": 14,
   "metadata": {
    "ExecuteTime": {
     "end_time": "2019-07-26T17:15:55.796815Z",
     "start_time": "2019-07-26T17:15:55.493Z"
    }
   },
   "outputs": [
    {
     "data": {
      "text/html": [
       "<table>\n",
       "<thead><tr><th scope=col>V1</th><th scope=col>V2</th><th scope=col>V3</th><th scope=col>V4</th><th scope=col>V5</th><th scope=col>V6</th><th scope=col>V7</th><th scope=col>V8</th></tr></thead>\n",
       "<tbody>\n",
       "\t<tr><td>2</td><td>2</td><td>1</td><td>1</td><td>1</td><td>2</td><td>1</td><td>2</td></tr>\n",
       "\t<tr><td>2</td><td>1</td><td>1</td><td>1</td><td>1</td><td>1</td><td>2</td><td>1</td></tr>\n",
       "\t<tr><td>1</td><td>1</td><td>2</td><td>1</td><td>1</td><td>1</td><td>2</td><td>1</td></tr>\n",
       "\t<tr><td>2</td><td>1</td><td>2</td><td>1</td><td>1</td><td>1</td><td>2</td><td>1</td></tr>\n",
       "\t<tr><td>2</td><td>1</td><td>2</td><td>1</td><td>1</td><td>1</td><td>1</td><td>2</td></tr>\n",
       "\t<tr><td>2</td><td>1</td><td>2</td><td>1</td><td>1</td><td>1</td><td>2</td><td>2</td></tr>\n",
       "\t<tr><td>2</td><td>1</td><td>2</td><td>1</td><td>1</td><td>1</td><td>2</td><td>2</td></tr>\n",
       "\t<tr><td>2</td><td>1</td><td>2</td><td>1</td><td>1</td><td>1</td><td>1</td><td>2</td></tr>\n",
       "\t<tr><td>2</td><td>1</td><td>2</td><td>1</td><td>1</td><td>1</td><td>1</td><td>2</td></tr>\n",
       "\t<tr><td>2</td><td>1</td><td>2</td><td>1</td><td>1</td><td>1</td><td>2</td><td>1</td></tr>\n",
       "\t<tr><td>2</td><td>1</td><td>2</td><td>1</td><td>1</td><td>1</td><td>2</td><td>2</td></tr>\n",
       "\t<tr><td>2</td><td>1</td><td>1</td><td>1</td><td>1</td><td>1</td><td>2</td><td>1</td></tr>\n",
       "\t<tr><td>1</td><td>1</td><td>1</td><td>1</td><td>1</td><td>1</td><td>2</td><td>1</td></tr>\n",
       "\t<tr><td>2</td><td>1</td><td>2</td><td>1</td><td>1</td><td>1</td><td>2</td><td>2</td></tr>\n",
       "\t<tr><td>1</td><td>1</td><td>1</td><td>1</td><td>1</td><td>1</td><td>2</td><td>1</td></tr>\n",
       "\t<tr><td>1</td><td>1</td><td>1</td><td>1</td><td>1</td><td>1</td><td>2</td><td>1</td></tr>\n",
       "\t<tr><td>1</td><td>1</td><td>1</td><td>1</td><td>1</td><td>1</td><td>2</td><td>1</td></tr>\n",
       "\t<tr><td>1</td><td>1</td><td>1</td><td>1</td><td>1</td><td>1</td><td>2</td><td>1</td></tr>\n",
       "\t<tr><td>2</td><td>1</td><td>1</td><td>1</td><td>1</td><td>1</td><td>2</td><td>1</td></tr>\n",
       "\t<tr><td>1</td><td>1</td><td>2</td><td>1</td><td>1</td><td>1</td><td>2</td><td>2</td></tr>\n",
       "\t<tr><td>2</td><td>1</td><td>1</td><td>1</td><td>1</td><td>1</td><td>2</td><td>1</td></tr>\n",
       "\t<tr><td>1</td><td>1</td><td>1</td><td>1</td><td>1</td><td>1</td><td>2</td><td>1</td></tr>\n",
       "\t<tr><td>2</td><td>1</td><td>2</td><td>1</td><td>1</td><td>1</td><td>2</td><td>2</td></tr>\n",
       "\t<tr><td>1</td><td>1</td><td>2</td><td>1</td><td>1</td><td>1</td><td>2</td><td>1</td></tr>\n",
       "\t<tr><td>1</td><td>1</td><td>1</td><td>1</td><td>1</td><td>1</td><td>2</td><td>1</td></tr>\n",
       "\t<tr><td>2</td><td>1</td><td>2</td><td>1</td><td>1</td><td>1</td><td>2</td><td>2</td></tr>\n",
       "\t<tr><td>1</td><td>1</td><td>1</td><td>1</td><td>1</td><td>1</td><td>2</td><td>1</td></tr>\n",
       "\t<tr><td>2</td><td>1</td><td>1</td><td>1</td><td>1</td><td>1</td><td>2</td><td>1</td></tr>\n",
       "\t<tr><td>1</td><td>1</td><td>2</td><td>1</td><td>1</td><td>1</td><td>2</td><td>1</td></tr>\n",
       "\t<tr><td>2</td><td>1</td><td>2</td><td>1</td><td>1</td><td>1</td><td>2</td><td>2</td></tr>\n",
       "\t<tr><td>...</td><td>...</td><td>...</td><td>...</td><td>...</td><td>...</td><td>...</td><td>...</td></tr>\n",
       "\t<tr><td>1</td><td>1</td><td>1</td><td>1</td><td>1</td><td>1</td><td>2</td><td>1</td></tr>\n",
       "\t<tr><td>2</td><td>1</td><td>1</td><td>1</td><td>1</td><td>1</td><td>2</td><td>1</td></tr>\n",
       "\t<tr><td>1</td><td>1</td><td>1</td><td>1</td><td>1</td><td>1</td><td>2</td><td>1</td></tr>\n",
       "\t<tr><td>1</td><td>1</td><td>2</td><td>1</td><td>1</td><td>1</td><td>2</td><td>1</td></tr>\n",
       "\t<tr><td>1</td><td>1</td><td>2</td><td>1</td><td>1</td><td>1</td><td>2</td><td>2</td></tr>\n",
       "\t<tr><td>2</td><td>1</td><td>2</td><td>1</td><td>1</td><td>1</td><td>1</td><td>2</td></tr>\n",
       "\t<tr><td>1</td><td>1</td><td>1</td><td>1</td><td>1</td><td>1</td><td>2</td><td>1</td></tr>\n",
       "\t<tr><td>2</td><td>1</td><td>2</td><td>1</td><td>1</td><td>1</td><td>2</td><td>2</td></tr>\n",
       "\t<tr><td>2</td><td>1</td><td>2</td><td>1</td><td>1</td><td>1</td><td>2</td><td>2</td></tr>\n",
       "\t<tr><td>1</td><td>1</td><td>1</td><td>1</td><td>1</td><td>1</td><td>2</td><td>1</td></tr>\n",
       "\t<tr><td>2</td><td>1</td><td>2</td><td>1</td><td>1</td><td>1</td><td>2</td><td>2</td></tr>\n",
       "\t<tr><td>1</td><td>1</td><td>1</td><td>1</td><td>1</td><td>1</td><td>1</td><td>2</td></tr>\n",
       "\t<tr><td>2</td><td>1</td><td>1</td><td>1</td><td>1</td><td>1</td><td>2</td><td>1</td></tr>\n",
       "\t<tr><td>1</td><td>1</td><td>2</td><td>1</td><td>1</td><td>1</td><td>1</td><td>2</td></tr>\n",
       "\t<tr><td>1</td><td>1</td><td>1</td><td>1</td><td>1</td><td>1</td><td>2</td><td>1</td></tr>\n",
       "\t<tr><td>1</td><td>1</td><td>2</td><td>1</td><td>1</td><td>1</td><td>2</td><td>1</td></tr>\n",
       "\t<tr><td>1</td><td>1</td><td>1</td><td>1</td><td>1</td><td>1</td><td>2</td><td>1</td></tr>\n",
       "\t<tr><td>2</td><td>1</td><td>2</td><td>1</td><td>1</td><td>1</td><td>2</td><td>2</td></tr>\n",
       "\t<tr><td>1</td><td>1</td><td>1</td><td>1</td><td>1</td><td>1</td><td>2</td><td>1</td></tr>\n",
       "\t<tr><td>1</td><td>1</td><td>2</td><td>1</td><td>1</td><td>1</td><td>2</td><td>1</td></tr>\n",
       "\t<tr><td>1</td><td>1</td><td>1</td><td>1</td><td>1</td><td>1</td><td>2</td><td>1</td></tr>\n",
       "\t<tr><td>1</td><td>1</td><td>2</td><td>1</td><td>1</td><td>1</td><td>2</td><td>2</td></tr>\n",
       "\t<tr><td>1</td><td>1</td><td>1</td><td>1</td><td>1</td><td>1</td><td>2</td><td>2</td></tr>\n",
       "\t<tr><td>2</td><td>2</td><td>1</td><td>1</td><td>1</td><td>2</td><td>1</td><td>1</td></tr>\n",
       "\t<tr><td>2</td><td>1</td><td>2</td><td>1</td><td>1</td><td>1</td><td>2</td><td>2</td></tr>\n",
       "\t<tr><td>1</td><td>1</td><td>2</td><td>1</td><td>1</td><td>1</td><td>1</td><td>1</td></tr>\n",
       "\t<tr><td>2</td><td>1</td><td>2</td><td>1</td><td>1</td><td>1</td><td>2</td><td>2</td></tr>\n",
       "\t<tr><td>1</td><td>1</td><td>1</td><td>1</td><td>1</td><td>1</td><td>2</td><td>1</td></tr>\n",
       "\t<tr><td>2</td><td>1</td><td>1</td><td>1</td><td>1</td><td>1</td><td>2</td><td>1</td></tr>\n",
       "\t<tr><td>2</td><td>1</td><td>2</td><td>1</td><td>1</td><td>1</td><td>2</td><td>1</td></tr>\n",
       "</tbody>\n",
       "</table>\n"
      ],
      "text/latex": [
       "\\begin{tabular}{llllllll}\n",
       " V1 & V2 & V3 & V4 & V5 & V6 & V7 & V8\\\\\n",
       "\\hline\n",
       "\t 2 & 2 & 1 & 1 & 1 & 2 & 1 & 2\\\\\n",
       "\t 2 & 1 & 1 & 1 & 1 & 1 & 2 & 1\\\\\n",
       "\t 1 & 1 & 2 & 1 & 1 & 1 & 2 & 1\\\\\n",
       "\t 2 & 1 & 2 & 1 & 1 & 1 & 2 & 1\\\\\n",
       "\t 2 & 1 & 2 & 1 & 1 & 1 & 1 & 2\\\\\n",
       "\t 2 & 1 & 2 & 1 & 1 & 1 & 2 & 2\\\\\n",
       "\t 2 & 1 & 2 & 1 & 1 & 1 & 2 & 2\\\\\n",
       "\t 2 & 1 & 2 & 1 & 1 & 1 & 1 & 2\\\\\n",
       "\t 2 & 1 & 2 & 1 & 1 & 1 & 1 & 2\\\\\n",
       "\t 2 & 1 & 2 & 1 & 1 & 1 & 2 & 1\\\\\n",
       "\t 2 & 1 & 2 & 1 & 1 & 1 & 2 & 2\\\\\n",
       "\t 2 & 1 & 1 & 1 & 1 & 1 & 2 & 1\\\\\n",
       "\t 1 & 1 & 1 & 1 & 1 & 1 & 2 & 1\\\\\n",
       "\t 2 & 1 & 2 & 1 & 1 & 1 & 2 & 2\\\\\n",
       "\t 1 & 1 & 1 & 1 & 1 & 1 & 2 & 1\\\\\n",
       "\t 1 & 1 & 1 & 1 & 1 & 1 & 2 & 1\\\\\n",
       "\t 1 & 1 & 1 & 1 & 1 & 1 & 2 & 1\\\\\n",
       "\t 1 & 1 & 1 & 1 & 1 & 1 & 2 & 1\\\\\n",
       "\t 2 & 1 & 1 & 1 & 1 & 1 & 2 & 1\\\\\n",
       "\t 1 & 1 & 2 & 1 & 1 & 1 & 2 & 2\\\\\n",
       "\t 2 & 1 & 1 & 1 & 1 & 1 & 2 & 1\\\\\n",
       "\t 1 & 1 & 1 & 1 & 1 & 1 & 2 & 1\\\\\n",
       "\t 2 & 1 & 2 & 1 & 1 & 1 & 2 & 2\\\\\n",
       "\t 1 & 1 & 2 & 1 & 1 & 1 & 2 & 1\\\\\n",
       "\t 1 & 1 & 1 & 1 & 1 & 1 & 2 & 1\\\\\n",
       "\t 2 & 1 & 2 & 1 & 1 & 1 & 2 & 2\\\\\n",
       "\t 1 & 1 & 1 & 1 & 1 & 1 & 2 & 1\\\\\n",
       "\t 2 & 1 & 1 & 1 & 1 & 1 & 2 & 1\\\\\n",
       "\t 1 & 1 & 2 & 1 & 1 & 1 & 2 & 1\\\\\n",
       "\t 2 & 1 & 2 & 1 & 1 & 1 & 2 & 2\\\\\n",
       "\t ... & ... & ... & ... & ... & ... & ... & ...\\\\\n",
       "\t 1 & 1 & 1 & 1 & 1 & 1 & 2 & 1\\\\\n",
       "\t 2 & 1 & 1 & 1 & 1 & 1 & 2 & 1\\\\\n",
       "\t 1 & 1 & 1 & 1 & 1 & 1 & 2 & 1\\\\\n",
       "\t 1 & 1 & 2 & 1 & 1 & 1 & 2 & 1\\\\\n",
       "\t 1 & 1 & 2 & 1 & 1 & 1 & 2 & 2\\\\\n",
       "\t 2 & 1 & 2 & 1 & 1 & 1 & 1 & 2\\\\\n",
       "\t 1 & 1 & 1 & 1 & 1 & 1 & 2 & 1\\\\\n",
       "\t 2 & 1 & 2 & 1 & 1 & 1 & 2 & 2\\\\\n",
       "\t 2 & 1 & 2 & 1 & 1 & 1 & 2 & 2\\\\\n",
       "\t 1 & 1 & 1 & 1 & 1 & 1 & 2 & 1\\\\\n",
       "\t 2 & 1 & 2 & 1 & 1 & 1 & 2 & 2\\\\\n",
       "\t 1 & 1 & 1 & 1 & 1 & 1 & 1 & 2\\\\\n",
       "\t 2 & 1 & 1 & 1 & 1 & 1 & 2 & 1\\\\\n",
       "\t 1 & 1 & 2 & 1 & 1 & 1 & 1 & 2\\\\\n",
       "\t 1 & 1 & 1 & 1 & 1 & 1 & 2 & 1\\\\\n",
       "\t 1 & 1 & 2 & 1 & 1 & 1 & 2 & 1\\\\\n",
       "\t 1 & 1 & 1 & 1 & 1 & 1 & 2 & 1\\\\\n",
       "\t 2 & 1 & 2 & 1 & 1 & 1 & 2 & 2\\\\\n",
       "\t 1 & 1 & 1 & 1 & 1 & 1 & 2 & 1\\\\\n",
       "\t 1 & 1 & 2 & 1 & 1 & 1 & 2 & 1\\\\\n",
       "\t 1 & 1 & 1 & 1 & 1 & 1 & 2 & 1\\\\\n",
       "\t 1 & 1 & 2 & 1 & 1 & 1 & 2 & 2\\\\\n",
       "\t 1 & 1 & 1 & 1 & 1 & 1 & 2 & 2\\\\\n",
       "\t 2 & 2 & 1 & 1 & 1 & 2 & 1 & 1\\\\\n",
       "\t 2 & 1 & 2 & 1 & 1 & 1 & 2 & 2\\\\\n",
       "\t 1 & 1 & 2 & 1 & 1 & 1 & 1 & 1\\\\\n",
       "\t 2 & 1 & 2 & 1 & 1 & 1 & 2 & 2\\\\\n",
       "\t 1 & 1 & 1 & 1 & 1 & 1 & 2 & 1\\\\\n",
       "\t 2 & 1 & 1 & 1 & 1 & 1 & 2 & 1\\\\\n",
       "\t 2 & 1 & 2 & 1 & 1 & 1 & 2 & 1\\\\\n",
       "\\end{tabular}\n"
      ],
      "text/markdown": [
       "\n",
       "| V1 | V2 | V3 | V4 | V5 | V6 | V7 | V8 |\n",
       "|---|---|---|---|---|---|---|---|\n",
       "| 2 | 2 | 1 | 1 | 1 | 2 | 1 | 2 |\n",
       "| 2 | 1 | 1 | 1 | 1 | 1 | 2 | 1 |\n",
       "| 1 | 1 | 2 | 1 | 1 | 1 | 2 | 1 |\n",
       "| 2 | 1 | 2 | 1 | 1 | 1 | 2 | 1 |\n",
       "| 2 | 1 | 2 | 1 | 1 | 1 | 1 | 2 |\n",
       "| 2 | 1 | 2 | 1 | 1 | 1 | 2 | 2 |\n",
       "| 2 | 1 | 2 | 1 | 1 | 1 | 2 | 2 |\n",
       "| 2 | 1 | 2 | 1 | 1 | 1 | 1 | 2 |\n",
       "| 2 | 1 | 2 | 1 | 1 | 1 | 1 | 2 |\n",
       "| 2 | 1 | 2 | 1 | 1 | 1 | 2 | 1 |\n",
       "| 2 | 1 | 2 | 1 | 1 | 1 | 2 | 2 |\n",
       "| 2 | 1 | 1 | 1 | 1 | 1 | 2 | 1 |\n",
       "| 1 | 1 | 1 | 1 | 1 | 1 | 2 | 1 |\n",
       "| 2 | 1 | 2 | 1 | 1 | 1 | 2 | 2 |\n",
       "| 1 | 1 | 1 | 1 | 1 | 1 | 2 | 1 |\n",
       "| 1 | 1 | 1 | 1 | 1 | 1 | 2 | 1 |\n",
       "| 1 | 1 | 1 | 1 | 1 | 1 | 2 | 1 |\n",
       "| 1 | 1 | 1 | 1 | 1 | 1 | 2 | 1 |\n",
       "| 2 | 1 | 1 | 1 | 1 | 1 | 2 | 1 |\n",
       "| 1 | 1 | 2 | 1 | 1 | 1 | 2 | 2 |\n",
       "| 2 | 1 | 1 | 1 | 1 | 1 | 2 | 1 |\n",
       "| 1 | 1 | 1 | 1 | 1 | 1 | 2 | 1 |\n",
       "| 2 | 1 | 2 | 1 | 1 | 1 | 2 | 2 |\n",
       "| 1 | 1 | 2 | 1 | 1 | 1 | 2 | 1 |\n",
       "| 1 | 1 | 1 | 1 | 1 | 1 | 2 | 1 |\n",
       "| 2 | 1 | 2 | 1 | 1 | 1 | 2 | 2 |\n",
       "| 1 | 1 | 1 | 1 | 1 | 1 | 2 | 1 |\n",
       "| 2 | 1 | 1 | 1 | 1 | 1 | 2 | 1 |\n",
       "| 1 | 1 | 2 | 1 | 1 | 1 | 2 | 1 |\n",
       "| 2 | 1 | 2 | 1 | 1 | 1 | 2 | 2 |\n",
       "| ... | ... | ... | ... | ... | ... | ... | ... |\n",
       "| 1 | 1 | 1 | 1 | 1 | 1 | 2 | 1 |\n",
       "| 2 | 1 | 1 | 1 | 1 | 1 | 2 | 1 |\n",
       "| 1 | 1 | 1 | 1 | 1 | 1 | 2 | 1 |\n",
       "| 1 | 1 | 2 | 1 | 1 | 1 | 2 | 1 |\n",
       "| 1 | 1 | 2 | 1 | 1 | 1 | 2 | 2 |\n",
       "| 2 | 1 | 2 | 1 | 1 | 1 | 1 | 2 |\n",
       "| 1 | 1 | 1 | 1 | 1 | 1 | 2 | 1 |\n",
       "| 2 | 1 | 2 | 1 | 1 | 1 | 2 | 2 |\n",
       "| 2 | 1 | 2 | 1 | 1 | 1 | 2 | 2 |\n",
       "| 1 | 1 | 1 | 1 | 1 | 1 | 2 | 1 |\n",
       "| 2 | 1 | 2 | 1 | 1 | 1 | 2 | 2 |\n",
       "| 1 | 1 | 1 | 1 | 1 | 1 | 1 | 2 |\n",
       "| 2 | 1 | 1 | 1 | 1 | 1 | 2 | 1 |\n",
       "| 1 | 1 | 2 | 1 | 1 | 1 | 1 | 2 |\n",
       "| 1 | 1 | 1 | 1 | 1 | 1 | 2 | 1 |\n",
       "| 1 | 1 | 2 | 1 | 1 | 1 | 2 | 1 |\n",
       "| 1 | 1 | 1 | 1 | 1 | 1 | 2 | 1 |\n",
       "| 2 | 1 | 2 | 1 | 1 | 1 | 2 | 2 |\n",
       "| 1 | 1 | 1 | 1 | 1 | 1 | 2 | 1 |\n",
       "| 1 | 1 | 2 | 1 | 1 | 1 | 2 | 1 |\n",
       "| 1 | 1 | 1 | 1 | 1 | 1 | 2 | 1 |\n",
       "| 1 | 1 | 2 | 1 | 1 | 1 | 2 | 2 |\n",
       "| 1 | 1 | 1 | 1 | 1 | 1 | 2 | 2 |\n",
       "| 2 | 2 | 1 | 1 | 1 | 2 | 1 | 1 |\n",
       "| 2 | 1 | 2 | 1 | 1 | 1 | 2 | 2 |\n",
       "| 1 | 1 | 2 | 1 | 1 | 1 | 1 | 1 |\n",
       "| 2 | 1 | 2 | 1 | 1 | 1 | 2 | 2 |\n",
       "| 1 | 1 | 1 | 1 | 1 | 1 | 2 | 1 |\n",
       "| 2 | 1 | 1 | 1 | 1 | 1 | 2 | 1 |\n",
       "| 2 | 1 | 2 | 1 | 1 | 1 | 2 | 1 |\n",
       "\n"
      ],
      "text/plain": [
       "      V1  V2  V3  V4  V5  V6  V7  V8 \n",
       " [1,] 2   2   1   1   1   2   1   2  \n",
       " [2,] 2   1   1   1   1   1   2   1  \n",
       " [3,] 1   1   2   1   1   1   2   1  \n",
       " [4,] 2   1   2   1   1   1   2   1  \n",
       " [5,] 2   1   2   1   1   1   1   2  \n",
       " [6,] 2   1   2   1   1   1   2   2  \n",
       " [7,] 2   1   2   1   1   1   2   2  \n",
       " [8,] 2   1   2   1   1   1   1   2  \n",
       " [9,] 2   1   2   1   1   1   1   2  \n",
       "[10,] 2   1   2   1   1   1   2   1  \n",
       "[11,] 2   1   2   1   1   1   2   2  \n",
       "[12,] 2   1   1   1   1   1   2   1  \n",
       "[13,] 1   1   1   1   1   1   2   1  \n",
       "[14,] 2   1   2   1   1   1   2   2  \n",
       "[15,] 1   1   1   1   1   1   2   1  \n",
       "[16,] 1   1   1   1   1   1   2   1  \n",
       "[17,] 1   1   1   1   1   1   2   1  \n",
       "[18,] 1   1   1   1   1   1   2   1  \n",
       "[19,] 2   1   1   1   1   1   2   1  \n",
       "[20,] 1   1   2   1   1   1   2   2  \n",
       "[21,] 2   1   1   1   1   1   2   1  \n",
       "[22,] 1   1   1   1   1   1   2   1  \n",
       "[23,] 2   1   2   1   1   1   2   2  \n",
       "[24,] 1   1   2   1   1   1   2   1  \n",
       "[25,] 1   1   1   1   1   1   2   1  \n",
       "[26,] 2   1   2   1   1   1   2   2  \n",
       "[27,] 1   1   1   1   1   1   2   1  \n",
       "[28,] 2   1   1   1   1   1   2   1  \n",
       "[29,] 1   1   2   1   1   1   2   1  \n",
       "[30,] 2   1   2   1   1   1   2   2  \n",
       "[31,] ... ... ... ... ... ... ... ...\n",
       "[32,] 1   1   1   1   1   1   2   1  \n",
       "[33,] 2   1   1   1   1   1   2   1  \n",
       "[34,] 1   1   1   1   1   1   2   1  \n",
       "[35,] 1   1   2   1   1   1   2   1  \n",
       "[36,] 1   1   2   1   1   1   2   2  \n",
       "[37,] 2   1   2   1   1   1   1   2  \n",
       "[38,] 1   1   1   1   1   1   2   1  \n",
       "[39,] 2   1   2   1   1   1   2   2  \n",
       "[40,] 2   1   2   1   1   1   2   2  \n",
       "[41,] 1   1   1   1   1   1   2   1  \n",
       "[42,] 2   1   2   1   1   1   2   2  \n",
       "[43,] 1   1   1   1   1   1   1   2  \n",
       "[44,] 2   1   1   1   1   1   2   1  \n",
       "[45,] 1   1   2   1   1   1   1   2  \n",
       "[46,] 1   1   1   1   1   1   2   1  \n",
       "[47,] 1   1   2   1   1   1   2   1  \n",
       "[48,] 1   1   1   1   1   1   2   1  \n",
       "[49,] 2   1   2   1   1   1   2   2  \n",
       "[50,] 1   1   1   1   1   1   2   1  \n",
       "[51,] 1   1   2   1   1   1   2   1  \n",
       "[52,] 1   1   1   1   1   1   2   1  \n",
       "[53,] 1   1   2   1   1   1   2   2  \n",
       "[54,] 1   1   1   1   1   1   2   2  \n",
       "[55,] 2   2   1   1   1   2   1   1  \n",
       "[56,] 2   1   2   1   1   1   2   2  \n",
       "[57,] 1   1   2   1   1   1   1   1  \n",
       "[58,] 2   1   2   1   1   1   2   2  \n",
       "[59,] 1   1   1   1   1   1   2   1  \n",
       "[60,] 2   1   1   1   1   1   2   1  \n",
       "[61,] 2   1   2   1   1   1   2   1  "
      ]
     },
     "metadata": {},
     "output_type": "display_data"
    }
   ],
   "source": [
    "raw.data(df)"
   ]
  },
  {
   "cell_type": "markdown",
   "metadata": {},
   "source": [
    "##  `bnstruct`"
   ]
  },
  {
   "cell_type": "code",
   "execution_count": 60,
   "metadata": {
    "ExecuteTime": {
     "end_time": "2019-07-27T09:38:54.478109Z",
     "start_time": "2019-07-27T09:38:54.281Z"
    }
   },
   "outputs": [],
   "source": [
    "library(\"bnstruct\")"
   ]
  },
  {
   "cell_type": "code",
   "execution_count": 61,
   "metadata": {
    "ExecuteTime": {
     "end_time": "2019-07-27T09:38:55.334200Z",
     "start_time": "2019-07-27T09:38:55.078Z"
    }
   },
   "outputs": [
    {
     "data": {
      "text/plain": [
       "\n",
       "To cite the bnstruct package in publications, use:\n",
       "\n",
       "  Alberto Franzin, Francesco Sambo, Barbara di Camillo. bnstruct: an R\n",
       "  package for Bayesian Network structure learning in the presence of\n",
       "  missing data. Bioinformatics, 2017; 33 (8): 1250-1252, Oxford\n",
       "  University Press\n",
       "\n",
       "A BibTeX entry for LaTeX users is\n",
       "\n",
       "  @Article{,\n",
       "    title = {bnstruct: an R package for Bayesian Network structure learning in the presence of missing data},\n",
       "    author = {Alberto Franzin and Francesco Sambo and Barbara di Camillo},\n",
       "    journal = {Bioinformatics},\n",
       "    year = {2017},\n",
       "    volume = {33},\n",
       "    number = {8},\n",
       "    pages = {1250--1252},\n",
       "    doi = {10.1093/bioinformatics/btw807},\n",
       "    publisher = {Oxford University Press},\n",
       "  }\n"
      ]
     },
     "metadata": {},
     "output_type": "display_data"
    }
   ],
   "source": [
    "citation(\"bnstruct\")"
   ]
  },
  {
   "cell_type": "code",
   "execution_count": null,
   "metadata": {
    "ExecuteTime": {
     "start_time": "2019-07-26T15:51:26.976Z"
    }
   },
   "outputs": [],
   "source": [
    "# ---- PREPROCESSING the Ruiz's dataset ----\n",
    "# The values contained in the dataset have to be numeric (real for continuous variables, integer for discrete ones)\n",
    "\n",
    "#df <- as.data.frame(lapply(df, as.integer))\n",
    "#str(df)\n",
    "#bn.dataset <- BNDataset(data = df.integer, node.sizes = rep(2,length(df.integer)), discreteness =  rep('d',length(df.integer)), variables = colnames(df))\n",
    "#show(bn.dataset)\n",
    "#raw.data(bn.dataset)"
   ]
  },
  {
   "cell_type": "code",
   "execution_count": 39,
   "metadata": {
    "ExecuteTime": {
     "end_time": "2019-07-26T17:50:22.102187Z",
     "start_time": "2019-07-26T17:50:19.719Z"
    }
   },
   "outputs": [
    {
     "name": "stderr",
     "output_type": "stream",
     "text": [
      "bnstruct :: learning the structure using MMHC ...\n",
      "bnstruct :: learning using MMHC completed.\n",
      "bnstruct :: learning network parameters ... \n"
     ]
    },
    {
     "name": "stdout",
     "output_type": "stream",
     "text": [
      "node  1 \n",
      "node  2 \n",
      "node  3 \n",
      "node  4 \n",
      "node  5 \n",
      "node  6 \n",
      "node  7 \n",
      "node  8 \n"
     ]
    },
    {
     "name": "stderr",
     "output_type": "stream",
     "text": [
      "bnstruct :: parameter learning done.\n",
      "bnstruct :: MMPC uses 'max.fanin', but apparently you set 'max.parents', changing accordingly.\n",
      "bnstruct :: learning the structure using MMPC ...\n",
      "bnstruct :: learning using MMPC completed.\n",
      "bnstruct :: HC uses 'max.fanin' and 'layer.struct' parameters, but apparently you set 'max.parents' and 'max.parents.layers', changing accordingly.\n",
      "bnstruct :: learning the structure using HC ...\n",
      "bnstruct :: learning using HC completed.\n",
      "bnstruct :: learning network parameters ... \n"
     ]
    },
    {
     "name": "stdout",
     "output_type": "stream",
     "text": [
      "node  1 \n",
      "node  2 \n",
      "node  3 \n",
      "node  4 \n",
      "node  5 \n",
      "node  6 \n",
      "node  7 \n",
      "node  8 \n"
     ]
    },
    {
     "name": "stderr",
     "output_type": "stream",
     "text": [
      "bnstruct :: parameter learning done.\n",
      "bnstruct :: HC uses 'max.fanin' and 'layer.struct' parameters, but apparently you set 'max.parents' and 'max.parents.layers', changing accordingly.\n",
      "bnstruct :: learning the structure using HC ...\n",
      "bnstruct :: learning using HC completed.\n",
      "bnstruct :: learning network parameters ... \n"
     ]
    },
    {
     "name": "stdout",
     "output_type": "stream",
     "text": [
      "node  1 \n",
      "node  2 \n",
      "node  3 \n",
      "node  4 \n",
      "node  5 \n",
      "node  6 \n",
      "node  7 \n",
      "node  8 \n"
     ]
    },
    {
     "name": "stderr",
     "output_type": "stream",
     "text": [
      "bnstruct :: parameter learning done.\n",
      "bnstruct :: HC uses 'max.fanin' and 'layer.struct' parameters, but apparently you set 'max.parents' and 'max.parents.layers', changing accordingly.\n",
      "bnstruct :: learning the structure using HC ...\n",
      "bnstruct :: learning using HC completed.\n",
      "bnstruct :: learning network parameters ... \n"
     ]
    },
    {
     "name": "stdout",
     "output_type": "stream",
     "text": [
      "node  1 \n",
      "node  2 \n",
      "node  3 \n",
      "node  4 \n",
      "node  5 \n",
      "node  6 \n",
      "node  7 \n",
      "node  8 \n"
     ]
    },
    {
     "name": "stderr",
     "output_type": "stream",
     "text": [
      "bnstruct :: parameter learning done.\n",
      "bnstruct :: learning the structure using SM ...\n",
      "bnstruct :: learning using SM completed.\n",
      "bnstruct :: learning network parameters ... \n"
     ]
    },
    {
     "name": "stdout",
     "output_type": "stream",
     "text": [
      "node  1 \n",
      "node  2 \n",
      "node  3 \n",
      "node  4 \n",
      "node  5 \n",
      "node  6 \n",
      "node  7 \n",
      "node  8 \n"
     ]
    },
    {
     "name": "stderr",
     "output_type": "stream",
     "text": [
      "bnstruct :: parameter learning done.\n"
     ]
    }
   ],
   "source": [
    "# Network Learning\n",
    "net.1 <- learn.network(bn.dataset, max.parents = 2, layering = layers,\n",
    "                       algo = \"mmhc\") # Max Min Hill Climbing (default)\n",
    "net.2 <- learn.network(bn.dataset, max.parents = 2, layering = layers,\n",
    "                       algo = \"mmpc\") # Max-Min Parent-and-Children \n",
    "net.3 <- learn.network(bn.dataset, max.parents = 2, layering = layers,\n",
    "                       algo = \"hc\",   # Hill Climbing\n",
    "                       scoring.func = \"BDeu\") # Bayesian-Dirichlet equivalent uniform (default)\n",
    "net.4 <- learn.network(bn.dataset, max.parents = 2, layering = layers,\n",
    "                       algo = \"hc\",   # Hill Climbing\n",
    "                       scoring.func = \"AIC\") # Akaike Information Criterion\n",
    "net.5 <- learn.network(bn.dataset, max.parents = 2, layering = layers,\n",
    "                       algo = \"hc\",   # Hill Climbing\n",
    "                       scoring.func = \"BIC\") # Bayesian Information Criterion\n",
    "net.6 <- learn.network(bn.dataset, max.parents = 2, layering = layers,\n",
    "                       algo = \"sm\",   #  Silander-Myllymaki (exact search-and-score algorithm)\n",
    "                        ) "
   ]
  },
  {
   "cell_type": "markdown",
   "metadata": {},
   "source": [
    "Copiato da documentazione: In terms of solution quality, the results clearly improve as the size of the\n",
    "dataset grows. For 10000 observations BDeu finds slightly better networks, in\n",
    "terms of similarity with the original one, than BIC, while for smaller datasets\n",
    "BIC is significantly more robust."
   ]
  },
  {
   "cell_type": "code",
   "execution_count": 40,
   "metadata": {
    "ExecuteTime": {
     "end_time": "2019-07-26T17:50:40.822830Z",
     "start_time": "2019-07-26T17:50:40.690Z"
    }
   },
   "outputs": [
    {
     "data": {
      "text/html": [
       "<table>\n",
       "<tbody>\n",
       "\t<tr><td>0</td><td>1</td><td>0</td><td>0</td><td>0</td><td>0</td><td>0</td><td>0</td></tr>\n",
       "\t<tr><td>0</td><td>0</td><td>0</td><td>0</td><td>0</td><td>1</td><td>0</td><td>0</td></tr>\n",
       "\t<tr><td>0</td><td>0</td><td>0</td><td>0</td><td>0</td><td>0</td><td>0</td><td>1</td></tr>\n",
       "\t<tr><td>0</td><td>0</td><td>0</td><td>0</td><td>1</td><td>0</td><td>0</td><td>0</td></tr>\n",
       "\t<tr><td>0</td><td>0</td><td>0</td><td>0</td><td>0</td><td>1</td><td>0</td><td>0</td></tr>\n",
       "\t<tr><td>0</td><td>0</td><td>0</td><td>0</td><td>0</td><td>0</td><td>0</td><td>0</td></tr>\n",
       "\t<tr><td>0</td><td>0</td><td>0</td><td>0</td><td>0</td><td>0</td><td>0</td><td>1</td></tr>\n",
       "\t<tr><td>0</td><td>0</td><td>0</td><td>0</td><td>0</td><td>0</td><td>0</td><td>0</td></tr>\n",
       "</tbody>\n",
       "</table>\n"
      ],
      "text/latex": [
       "\\begin{tabular}{llllllll}\n",
       "\t 0 & 1 & 0 & 0 & 0 & 0 & 0 & 0\\\\\n",
       "\t 0 & 0 & 0 & 0 & 0 & 1 & 0 & 0\\\\\n",
       "\t 0 & 0 & 0 & 0 & 0 & 0 & 0 & 1\\\\\n",
       "\t 0 & 0 & 0 & 0 & 1 & 0 & 0 & 0\\\\\n",
       "\t 0 & 0 & 0 & 0 & 0 & 1 & 0 & 0\\\\\n",
       "\t 0 & 0 & 0 & 0 & 0 & 0 & 0 & 0\\\\\n",
       "\t 0 & 0 & 0 & 0 & 0 & 0 & 0 & 1\\\\\n",
       "\t 0 & 0 & 0 & 0 & 0 & 0 & 0 & 0\\\\\n",
       "\\end{tabular}\n"
      ],
      "text/markdown": [
       "\n",
       "| 0 | 1 | 0 | 0 | 0 | 0 | 0 | 0 |\n",
       "| 0 | 0 | 0 | 0 | 0 | 1 | 0 | 0 |\n",
       "| 0 | 0 | 0 | 0 | 0 | 0 | 0 | 1 |\n",
       "| 0 | 0 | 0 | 0 | 1 | 0 | 0 | 0 |\n",
       "| 0 | 0 | 0 | 0 | 0 | 1 | 0 | 0 |\n",
       "| 0 | 0 | 0 | 0 | 0 | 0 | 0 | 0 |\n",
       "| 0 | 0 | 0 | 0 | 0 | 0 | 0 | 1 |\n",
       "| 0 | 0 | 0 | 0 | 0 | 0 | 0 | 0 |\n",
       "\n"
      ],
      "text/plain": [
       "     [,1] [,2] [,3] [,4] [,5] [,6] [,7] [,8]\n",
       "[1,] 0    1    0    0    0    0    0    0   \n",
       "[2,] 0    0    0    0    0    1    0    0   \n",
       "[3,] 0    0    0    0    0    0    0    1   \n",
       "[4,] 0    0    0    0    1    0    0    0   \n",
       "[5,] 0    0    0    0    0    1    0    0   \n",
       "[6,] 0    0    0    0    0    0    0    0   \n",
       "[7,] 0    0    0    0    0    0    0    1   \n",
       "[8,] 0    0    0    0    0    0    0    0   "
      ]
     },
     "metadata": {},
     "output_type": "display_data"
    }
   ],
   "source": [
    "dag(net.1) # Show Directed Acyclic Graph adjagency matrix"
   ]
  },
  {
   "cell_type": "code",
   "execution_count": 41,
   "metadata": {
    "ExecuteTime": {
     "end_time": "2019-07-26T17:50:41.702367Z",
     "start_time": "2019-07-26T17:50:41.545Z"
    }
   },
   "outputs": [
    {
     "data": {
      "text/html": [
       "<dl>\n",
       "\t<dt>$Asia</dt>\n",
       "\t\t<dd><dl class=dl-horizontal>\n",
       "\t<dt>1</dt>\n",
       "\t\t<dd>0.495300469953005</dd>\n",
       "\t<dt>2</dt>\n",
       "\t\t<dd>0.504699530046995</dd>\n",
       "</dl>\n",
       "</dd>\n",
       "\t<dt>$Tubercolosys</dt>\n",
       "\t\t<dd><table>\n",
       "<thead><tr><th scope=col>1</th><th scope=col>2</th></tr></thead>\n",
       "<tbody>\n",
       "\t<tr><td>0.9928838 </td><td>0.00711618</td></tr>\n",
       "\t<tr><td>0.8955423 </td><td>0.10445765</td></tr>\n",
       "</tbody>\n",
       "</table>\n",
       "</dd>\n",
       "\t<dt>$Smoke</dt>\n",
       "\t\t<dd><dl class=dl-horizontal>\n",
       "\t<dt>1</dt>\n",
       "\t\t<dd>0.541895810418958</dd>\n",
       "\t<dt>2</dt>\n",
       "\t\t<dd>0.458104189581042</dd>\n",
       "</dl>\n",
       "</dd>\n",
       "\t<dt>$LungCancer</dt>\n",
       "\t\t<dd><dl class=dl-horizontal>\n",
       "\t<dt>1</dt>\n",
       "\t\t<dd>0.990750924907509</dd>\n",
       "\t<dt>2</dt>\n",
       "\t\t<dd>0.00924907509249075</dd>\n",
       "</dl>\n",
       "</dd>\n",
       "\t<dt>$Bronchitis</dt>\n",
       "\t\t<dd><table>\n",
       "<thead><tr><th scope=col>1</th><th scope=col>2</th></tr></thead>\n",
       "<tbody>\n",
       "\t<tr><td>0.9888732 </td><td>0.01112681</td></tr>\n",
       "\t<tr><td>0.9324324 </td><td>0.06756757</td></tr>\n",
       "</tbody>\n",
       "</table>\n",
       "</dd>\n",
       "\t<dt>$Either</dt>\n",
       "\t\t<dd><ol class=list-inline>\n",
       "\t<li>0.999986596970915</li>\n",
       "\t<li>0.000223914017017465</li>\n",
       "\t<li>0.00111358574610245</li>\n",
       "\t<li>0.0294117647058824</li>\n",
       "\t<li>1.34030290845731e-05</li>\n",
       "\t<li>0.999776085982983</li>\n",
       "\t<li>0.998886414253898</li>\n",
       "\t<li>0.970588235294118</li>\n",
       "</ol>\n",
       "</dd>\n",
       "\t<dt>$`X-ray`</dt>\n",
       "\t\t<dd><dl class=dl-horizontal>\n",
       "\t<dt>1</dt>\n",
       "\t\t<dd>0.111338866113389</dd>\n",
       "\t<dt>2</dt>\n",
       "\t\t<dd>0.888661133886611</dd>\n",
       "</dl>\n",
       "</dd>\n",
       "\t<dt>$Dyspnea</dt>\n",
       "\t\t<dd><ol class=list-inline>\n",
       "\t<li>0.577455048409405</li>\n",
       "\t<li>0.112253829321663</li>\n",
       "\t<li>0.89540724793685</li>\n",
       "\t<li>0.207499532448102</li>\n",
       "\t<li>0.422544951590595</li>\n",
       "\t<li>0.887746170678337</li>\n",
       "\t<li>0.10459275206315</li>\n",
       "\t<li>0.792500467551898</li>\n",
       "</ol>\n",
       "</dd>\n",
       "</dl>\n"
      ],
      "text/latex": [
       "\\begin{description}\n",
       "\\item[\\$Asia] \\begin{description*}\n",
       "\\item[1] 0.495300469953005\n",
       "\\item[2] 0.504699530046995\n",
       "\\end{description*}\n",
       "\n",
       "\\item[\\$Tubercolosys] \\begin{tabular}{r|ll}\n",
       " 1 & 2\\\\\n",
       "\\hline\n",
       "\t 0.9928838  & 0.00711618\\\\\n",
       "\t 0.8955423  & 0.10445765\\\\\n",
       "\\end{tabular}\n",
       "\n",
       "\\item[\\$Smoke] \\begin{description*}\n",
       "\\item[1] 0.541895810418958\n",
       "\\item[2] 0.458104189581042\n",
       "\\end{description*}\n",
       "\n",
       "\\item[\\$LungCancer] \\begin{description*}\n",
       "\\item[1] 0.990750924907509\n",
       "\\item[2] 0.00924907509249075\n",
       "\\end{description*}\n",
       "\n",
       "\\item[\\$Bronchitis] \\begin{tabular}{r|ll}\n",
       " 1 & 2\\\\\n",
       "\\hline\n",
       "\t 0.9888732  & 0.01112681\\\\\n",
       "\t 0.9324324  & 0.06756757\\\\\n",
       "\\end{tabular}\n",
       "\n",
       "\\item[\\$Either] \\begin{enumerate*}\n",
       "\\item 0.999986596970915\n",
       "\\item 0.000223914017017465\n",
       "\\item 0.00111358574610245\n",
       "\\item 0.0294117647058824\n",
       "\\item 1.34030290845731e-05\n",
       "\\item 0.999776085982983\n",
       "\\item 0.998886414253898\n",
       "\\item 0.970588235294118\n",
       "\\end{enumerate*}\n",
       "\n",
       "\\item[\\$`X-ray`] \\begin{description*}\n",
       "\\item[1] 0.111338866113389\n",
       "\\item[2] 0.888661133886611\n",
       "\\end{description*}\n",
       "\n",
       "\\item[\\$Dyspnea] \\begin{enumerate*}\n",
       "\\item 0.577455048409405\n",
       "\\item 0.112253829321663\n",
       "\\item 0.89540724793685\n",
       "\\item 0.207499532448102\n",
       "\\item 0.422544951590595\n",
       "\\item 0.887746170678337\n",
       "\\item 0.10459275206315\n",
       "\\item 0.792500467551898\n",
       "\\end{enumerate*}\n",
       "\n",
       "\\end{description}\n"
      ],
      "text/markdown": [
       "$Asia\n",
       ":   1\n",
       ":   0.4953004699530052\n",
       ":   0.504699530046995\n",
       "\n",
       "\n",
       "$Tubercolosys\n",
       ":   \n",
       "| 1 | 2 |\n",
       "|---|---|\n",
       "| 0.9928838  | 0.00711618 |\n",
       "| 0.8955423  | 0.10445765 |\n",
       "\n",
       "\n",
       "$Smoke\n",
       ":   1\n",
       ":   0.5418958104189582\n",
       ":   0.458104189581042\n",
       "\n",
       "\n",
       "$LungCancer\n",
       ":   1\n",
       ":   0.9907509249075092\n",
       ":   0.00924907509249075\n",
       "\n",
       "\n",
       "$Bronchitis\n",
       ":   \n",
       "| 1 | 2 |\n",
       "|---|---|\n",
       "| 0.9888732  | 0.01112681 |\n",
       "| 0.9324324  | 0.06756757 |\n",
       "\n",
       "\n",
       "$Either\n",
       ":   1. 0.999986596970915\n",
       "2. 0.000223914017017465\n",
       "3. 0.00111358574610245\n",
       "4. 0.0294117647058824\n",
       "5. 1.34030290845731e-05\n",
       "6. 0.999776085982983\n",
       "7. 0.998886414253898\n",
       "8. 0.970588235294118\n",
       "\n",
       "\n",
       "\n",
       "$`X-ray`\n",
       ":   1\n",
       ":   0.1113388661133892\n",
       ":   0.888661133886611\n",
       "\n",
       "\n",
       "$Dyspnea\n",
       ":   1. 0.577455048409405\n",
       "2. 0.112253829321663\n",
       "3. 0.89540724793685\n",
       "4. 0.207499532448102\n",
       "5. 0.422544951590595\n",
       "6. 0.887746170678337\n",
       "7. 0.10459275206315\n",
       "8. 0.792500467551898\n",
       "\n",
       "\n",
       "\n",
       "\n",
       "\n"
      ],
      "text/plain": [
       "$Asia\n",
       "Asia\n",
       "        1         2 \n",
       "0.4953005 0.5046995 \n",
       "\n",
       "$Tubercolosys\n",
       "    Tubercolosys\n",
       "Asia         1          2\n",
       "   1 0.9928838 0.00711618\n",
       "   2 0.8955423 0.10445765\n",
       "\n",
       "$Smoke\n",
       "Smoke\n",
       "        1         2 \n",
       "0.5418958 0.4581042 \n",
       "\n",
       "$LungCancer\n",
       "LungCancer\n",
       "          1           2 \n",
       "0.990750925 0.009249075 \n",
       "\n",
       "$Bronchitis\n",
       "          Bronchitis\n",
       "LungCancer         1          2\n",
       "         1 0.9888732 0.01112681\n",
       "         2 0.9324324 0.06756757\n",
       "\n",
       "$Either\n",
       ", , Either = 1\n",
       "\n",
       "            Bronchitis\n",
       "Tubercolosys           1           2\n",
       "           1 0.999986597 0.001113586\n",
       "           2 0.000223914 0.029411765\n",
       "\n",
       ", , Either = 2\n",
       "\n",
       "            Bronchitis\n",
       "Tubercolosys            1         2\n",
       "           1 1.340303e-05 0.9988864\n",
       "           2 9.997761e-01 0.9705882\n",
       "\n",
       "\n",
       "$`X-ray`\n",
       "X-ray\n",
       "        1         2 \n",
       "0.1113389 0.8886611 \n",
       "\n",
       "$Dyspnea\n",
       ", , Dyspnea = 1\n",
       "\n",
       "     X-ray\n",
       "Smoke         1         2\n",
       "    1 0.5774550 0.8954072\n",
       "    2 0.1122538 0.2074995\n",
       "\n",
       ", , Dyspnea = 2\n",
       "\n",
       "     X-ray\n",
       "Smoke         1         2\n",
       "    1 0.4225450 0.1045928\n",
       "    2 0.8877462 0.7925005\n",
       "\n"
      ]
     },
     "metadata": {},
     "output_type": "display_data"
    }
   ],
   "source": [
    "cpts(net.1) # show conditional probability tables "
   ]
  },
  {
   "cell_type": "code",
   "execution_count": 42,
   "metadata": {
    "ExecuteTime": {
     "end_time": "2019-07-26T17:50:42.340889Z",
     "start_time": "2019-07-26T17:50:42.219Z"
    }
   },
   "outputs": [
    {
     "name": "stdout",
     "output_type": "stream",
     "text": [
      "\n",
      "Bayesian Network: BNDataset\n",
      "\n",
      "num.nodes 8\n",
      "\n",
      "variables\n",
      "Asia Tubercolosys Smoke LungCancer Bronchitis Either X-ray Dyspnea\n",
      "discreteness\n",
      "TRUE TRUE TRUE TRUE TRUE TRUE TRUE TRUE\n",
      "node.sizes\n",
      "2 2 2 2 2 2 2 2\n",
      "Adjacency matrix:\n",
      "             Asia Tubercolosys Smoke LungCancer Bronchitis Either X-ray Dyspnea\n",
      "Asia            0            1     0          0          0      0     0       0\n",
      "Tubercolosys    0            0     0          0          0      1     0       0\n",
      "Smoke           0            0     0          0          0      0     0       1\n",
      "LungCancer      0            0     0          0          1      0     0       0\n",
      "Bronchitis      0            0     0          0          0      1     0       0\n",
      "Either          0            0     0          0          0      0     0       0\n",
      "X-ray           0            0     0          0          0      0     0       1\n",
      "Dyspnea         0            0     0          0          0      0     0       0\n",
      "\n",
      "Conditional probability tables:$Asia\n",
      "Asia\n",
      "        1         2 \n",
      "0.4953005 0.5046995 \n",
      "\n",
      "$Tubercolosys\n",
      "    Tubercolosys\n",
      "Asia         1          2\n",
      "   1 0.9928838 0.00711618\n",
      "   2 0.8955423 0.10445765\n",
      "\n",
      "$Smoke\n",
      "Smoke\n",
      "        1         2 \n",
      "0.5418958 0.4581042 \n",
      "\n",
      "$LungCancer\n",
      "LungCancer\n",
      "          1           2 \n",
      "0.990750925 0.009249075 \n",
      "\n",
      "$Bronchitis\n",
      "          Bronchitis\n",
      "LungCancer         1          2\n",
      "         1 0.9888732 0.01112681\n",
      "         2 0.9324324 0.06756757\n",
      "\n",
      "$Either\n",
      ", , Either = 1\n",
      "\n",
      "            Bronchitis\n",
      "Tubercolosys           1           2\n",
      "           1 0.999986597 0.001113586\n",
      "           2 0.000223914 0.029411765\n",
      "\n",
      ", , Either = 2\n",
      "\n",
      "            Bronchitis\n",
      "Tubercolosys            1         2\n",
      "           1 1.340303e-05 0.9988864\n",
      "           2 9.997761e-01 0.9705882\n",
      "\n",
      "\n",
      "$`X-ray`\n",
      "X-ray\n",
      "        1         2 \n",
      "0.1113389 0.8886611 \n",
      "\n",
      "$Dyspnea\n",
      ", , Dyspnea = 1\n",
      "\n",
      "     X-ray\n",
      "Smoke         1         2\n",
      "    1 0.5774550 0.8954072\n",
      "    2 0.1122538 0.2074995\n",
      "\n",
      ", , Dyspnea = 2\n",
      "\n",
      "     X-ray\n",
      "Smoke         1         2\n",
      "    1 0.4225450 0.1045928\n",
      "    2 0.8877462 0.7925005\n",
      "\n",
      "\n",
      "\n"
     ]
    }
   ],
   "source": [
    "print(net.1)"
   ]
  },
  {
   "cell_type": "code",
   "execution_count": 43,
   "metadata": {
    "ExecuteTime": {
     "end_time": "2019-07-26T17:50:47.951012Z",
     "start_time": "2019-07-26T17:50:47.524Z"
    }
   },
   "outputs": [
    {
     "data": {
      "image/png": "[encoded data removed]",
      "text/plain": [
       "plot without title"
      ]
     },
     "metadata": {},
     "output_type": "display_data"
    }
   ],
   "source": [
    "plot(net.1)"
   ]
  },
  {
   "cell_type": "code",
   "execution_count": 44,
   "metadata": {
    "ExecuteTime": {
     "end_time": "2019-07-26T17:51:30.803448Z",
     "start_time": "2019-07-26T17:51:30.414Z"
    }
   },
   "outputs": [
    {
     "data": {
      "image/png": "[encoded data removed]",
      "text/plain": [
       "plot without title"
      ]
     },
     "metadata": {},
     "output_type": "display_data"
    }
   ],
   "source": [
    "plot(net.2)"
   ]
  },
  {
   "cell_type": "code",
   "execution_count": 45,
   "metadata": {
    "ExecuteTime": {
     "end_time": "2019-07-26T17:52:05.183657Z",
     "start_time": "2019-07-26T17:52:04.740Z"
    }
   },
   "outputs": [
    {
     "data": {
      "image/png": "[encoded data removed]",
      "text/plain": [
       "plot without title"
      ]
     },
     "metadata": {},
     "output_type": "display_data"
    }
   ],
   "source": [
    "plot(net.3)"
   ]
  },
  {
   "cell_type": "code",
   "execution_count": 46,
   "metadata": {
    "ExecuteTime": {
     "end_time": "2019-07-26T17:52:05.915697Z",
     "start_time": "2019-07-26T17:52:05.459Z"
    }
   },
   "outputs": [
    {
     "data": {
      "image/png": "[encoded data removed]",
      "text/plain": [
       "plot without title"
      ]
     },
     "metadata": {},
     "output_type": "display_data"
    }
   ],
   "source": [
    "plot(net.4)"
   ]
  },
  {
   "cell_type": "code",
   "execution_count": 47,
   "metadata": {
    "ExecuteTime": {
     "end_time": "2019-07-26T17:52:08.280363Z",
     "start_time": "2019-07-26T17:52:07.798Z"
    },
    "scrolled": false
   },
   "outputs": [
    {
     "data": {
      "image/png": "[encoded data removed]",
      "text/plain": [
       "plot without title"
      ]
     },
     "metadata": {},
     "output_type": "display_data"
    }
   ],
   "source": [
    "plot(net.5)"
   ]
  },
  {
   "cell_type": "code",
   "execution_count": 48,
   "metadata": {
    "ExecuteTime": {
     "end_time": "2019-07-26T17:52:09.095183Z",
     "start_time": "2019-07-26T17:52:08.621Z"
    }
   },
   "outputs": [
    {
     "data": {
      "image/png": "[encoded data removed]",
      "text/plain": [
       "plot without title"
      ]
     },
     "metadata": {},
     "output_type": "display_data"
    }
   ],
   "source": [
    "plot(net.6) # almost! smoking -> lung cancer & bronchitis"
   ]
  },
  {
   "cell_type": "code",
   "execution_count": null,
   "metadata": {},
   "outputs": [],
   "source": []
  },
  {
   "cell_type": "code",
   "execution_count": 50,
   "metadata": {
    "ExecuteTime": {
     "end_time": "2019-07-26T17:57:59.418459Z",
     "start_time": "2019-07-26T17:57:39.155Z"
    }
   },
   "outputs": [
    {
     "name": "stderr",
     "output_type": "stream",
     "text": [
      "bnstruct :: Generating bootstrap samples ...\n",
      "bnstruct :: Bootstrap samples generated.\n",
      "bnstruct :: learning the structure using SM ...\n",
      "bnstruct :: learning using SM completed.\n"
     ]
    },
    {
     "data": {
      "image/png": "[encoded data removed]",
      "text/plain": [
       "plot without title"
      ]
     },
     "metadata": {},
     "output_type": "display_data"
    }
   ],
   "source": [
    "# bootstrap example taken from documentation, almost as wanted!\n",
    "bn.boot <- bootstrap(bn.dataset, num.boots = 300)\n",
    "net <- learn.network(bn.boot, bootstrap = TRUE, max.parents = 2, layering = layers, algo = \"sm\")\n",
    "plot(net)"
   ]
  },
  {
   "cell_type": "code",
   "execution_count": 54,
   "metadata": {
    "ExecuteTime": {
     "end_time": "2019-07-26T18:05:27.069293Z",
     "start_time": "2019-07-26T18:05:26.868Z"
    }
   },
   "outputs": [
    {
     "data": {
      "text/html": [
       "<table>\n",
       "<tbody>\n",
       "\t<tr><td>0  </td><td>300</td><td>0  </td><td> 21</td><td> 30</td><td>  0</td><td>  3</td><td>  0</td></tr>\n",
       "\t<tr><td>0  </td><td>  0</td><td>0  </td><td> 40</td><td> 23</td><td>300</td><td>  8</td><td>  0</td></tr>\n",
       "\t<tr><td>0  </td><td>  1</td><td>0  </td><td> 33</td><td> 94</td><td>  0</td><td> 12</td><td>300</td></tr>\n",
       "\t<tr><td>0  </td><td>  3</td><td>0  </td><td>  0</td><td>142</td><td>  0</td><td> 12</td><td>  2</td></tr>\n",
       "\t<tr><td>0  </td><td>  1</td><td>0  </td><td>186</td><td>  0</td><td>300</td><td>  5</td><td>  0</td></tr>\n",
       "\t<tr><td>0  </td><td>  0</td><td>0  </td><td>  0</td><td>  0</td><td>  0</td><td>300</td><td>300</td></tr>\n",
       "\t<tr><td>0  </td><td>  0</td><td>0  </td><td>  0</td><td>  0</td><td>  0</td><td>  0</td><td>  0</td></tr>\n",
       "\t<tr><td>0  </td><td>  0</td><td>0  </td><td>  0</td><td>  0</td><td>  0</td><td>  2</td><td>  0</td></tr>\n",
       "</tbody>\n",
       "</table>\n"
      ],
      "text/latex": [
       "\\begin{tabular}{llllllll}\n",
       "\t 0   & 300 & 0   &  21 &  30 &   0 &   3 &   0\\\\\n",
       "\t 0   &   0 & 0   &  40 &  23 & 300 &   8 &   0\\\\\n",
       "\t 0   &   1 & 0   &  33 &  94 &   0 &  12 & 300\\\\\n",
       "\t 0   &   3 & 0   &   0 & 142 &   0 &  12 &   2\\\\\n",
       "\t 0   &   1 & 0   & 186 &   0 & 300 &   5 &   0\\\\\n",
       "\t 0   &   0 & 0   &   0 &   0 &   0 & 300 & 300\\\\\n",
       "\t 0   &   0 & 0   &   0 &   0 &   0 &   0 &   0\\\\\n",
       "\t 0   &   0 & 0   &   0 &   0 &   0 &   2 &   0\\\\\n",
       "\\end{tabular}\n"
      ],
      "text/markdown": [
       "\n",
       "| 0   | 300 | 0   |  21 |  30 |   0 |   3 |   0 |\n",
       "| 0   |   0 | 0   |  40 |  23 | 300 |   8 |   0 |\n",
       "| 0   |   1 | 0   |  33 |  94 |   0 |  12 | 300 |\n",
       "| 0   |   3 | 0   |   0 | 142 |   0 |  12 |   2 |\n",
       "| 0   |   1 | 0   | 186 |   0 | 300 |   5 |   0 |\n",
       "| 0   |   0 | 0   |   0 |   0 |   0 | 300 | 300 |\n",
       "| 0   |   0 | 0   |   0 |   0 |   0 |   0 |   0 |\n",
       "| 0   |   0 | 0   |   0 |   0 |   0 |   2 |   0 |\n",
       "\n"
      ],
      "text/plain": [
       "     [,1] [,2] [,3] [,4] [,5] [,6] [,7] [,8]\n",
       "[1,] 0    300  0     21   30    0    3    0 \n",
       "[2,] 0      0  0     40   23  300    8    0 \n",
       "[3,] 0      1  0     33   94    0   12  300 \n",
       "[4,] 0      3  0      0  142    0   12    2 \n",
       "[5,] 0      1  0    186    0  300    5    0 \n",
       "[6,] 0      0  0      0    0    0  300  300 \n",
       "[7,] 0      0  0      0    0    0    0    0 \n",
       "[8,] 0      0  0      0    0    0    2    0 "
      ]
     },
     "metadata": {},
     "output_type": "display_data"
    }
   ],
   "source": [
    "wpdag(net)"
   ]
  },
  {
   "cell_type": "code",
   "execution_count": 31,
   "metadata": {
    "ExecuteTime": {
     "end_time": "2019-07-27T15:39:48.809851Z",
     "start_time": "2019-07-27T15:39:48.689Z"
    }
   },
   "outputs": [],
   "source": [
    "actual.net <- matrix(c(0,1,0,0,0,0,0,0,\n",
    "                       0,0,0,0,0,1,0,0,\n",
    "                       0,0,0,1,1,0,0,0,\n",
    "                       0,0,0,0,0,1,0,0,\n",
    "                       0,0,0,0,0,0,0,1,\n",
    "                       0,0,0,0,0,0,1,1,\n",
    "                       0,0,0,0,0,0,0,0,\n",
    "                       0,0,0,0,0,0,0,0), nrow = 8, ncol = 8, byrow = TRUE) # actual adjacency matrix "
   ]
  },
  {
   "cell_type": "code",
   "execution_count": 59,
   "metadata": {
    "ExecuteTime": {
     "end_time": "2019-07-26T20:14:31.462267Z",
     "start_time": "2019-07-26T20:14:30.137Z"
    }
   },
   "outputs": [
    {
     "name": "stderr",
     "output_type": "stream",
     "text": [
      "bnstruct :: learning network parameters ... \n"
     ]
    },
    {
     "name": "stdout",
     "output_type": "stream",
     "text": [
      "node  1 \n",
      "node  2 \n",
      "node  3 \n",
      "node  4 \n",
      "node  5 \n",
      "node  6 \n",
      "node  7 \n",
      "node  8 \n"
     ]
    },
    {
     "name": "stderr",
     "output_type": "stream",
     "text": [
      "bnstruct :: parameter learning done.\n",
      "bnstruct :: learning the structure using MMHC ...\n",
      "bnstruct :: learning using MMHC completed.\n",
      "bnstruct :: learning network parameters ... \n"
     ]
    },
    {
     "name": "stdout",
     "output_type": "stream",
     "text": [
      "node  1 \n",
      "node  2 \n",
      "node  3 \n",
      "node  4 \n",
      "node  5 \n",
      "node  6 \n",
      "node  7 \n",
      "node  8 \n"
     ]
    },
    {
     "name": "stderr",
     "output_type": "stream",
     "text": [
      "bnstruct :: parameter learning done.\n"
     ]
    },
    {
     "data": {
      "image/png": "[encoded data removed]",
      "text/plain": [
       "plot without title"
      ]
     },
     "metadata": {},
     "output_type": "display_data"
    }
   ],
   "source": [
    "net.final <- learn.network(bn.dataset, initial.network = actual.net, max.parents = 2, layering = layers)\n",
    "plot(net.final)"
   ]
  },
  {
   "cell_type": "markdown",
   "metadata": {},
   "source": [
    "## `bnlearn`"
   ]
  },
  {
   "cell_type": "code",
   "execution_count": 3,
   "metadata": {
    "ExecuteTime": {
     "end_time": "2019-07-27T10:35:17.088874Z",
     "start_time": "2019-07-27T10:35:14.245Z"
    }
   },
   "outputs": [
    {
     "name": "stderr",
     "output_type": "stream",
     "text": [
      "Warning message:\n",
      "\"package 'bnlearn' was built under R version 3.6.1\"\n",
      "Attaching package: 'bnlearn'\n",
      "\n",
      "The following objects are masked from 'package:bnstruct':\n",
      "\n",
      "    impute, read.bif, read.dsc, read.net, shd, write.dsc\n",
      "\n",
      "The following objects are masked from 'package:igraph':\n",
      "\n",
      "    compare, degree, path, subgraph\n",
      "\n",
      "The following object is masked from 'package:stats':\n",
      "\n",
      "    sigma\n",
      "\n",
      "Loading required package: graph\n",
      "Loading required package: BiocGenerics\n",
      "Loading required package: parallel\n",
      "\n",
      "Attaching package: 'BiocGenerics'\n",
      "\n",
      "The following objects are masked from 'package:parallel':\n",
      "\n",
      "    clusterApply, clusterApplyLB, clusterCall, clusterEvalQ,\n",
      "    clusterExport, clusterMap, parApply, parCapply, parLapply,\n",
      "    parLapplyLB, parRapply, parSapply, parSapplyLB\n",
      "\n",
      "The following objects are masked from 'package:bnlearn':\n",
      "\n",
      "    path, score\n",
      "\n",
      "The following objects are masked from 'package:igraph':\n",
      "\n",
      "    normalize, path, union\n",
      "\n",
      "The following object is masked from 'package:Matrix':\n",
      "\n",
      "    which\n",
      "\n",
      "The following objects are masked from 'package:stats':\n",
      "\n",
      "    IQR, mad, sd, var, xtabs\n",
      "\n",
      "The following objects are masked from 'package:base':\n",
      "\n",
      "    anyDuplicated, append, as.data.frame, basename, cbind, colnames,\n",
      "    dirname, do.call, duplicated, eval, evalq, Filter, Find, get, grep,\n",
      "    grepl, intersect, is.unsorted, lapply, Map, mapply, match, mget,\n",
      "    order, paste, pmax, pmax.int, pmin, pmin.int, Position, rank,\n",
      "    rbind, Reduce, rownames, sapply, setdiff, sort, table, tapply,\n",
      "    union, unique, unsplit, which, which.max, which.min\n",
      "\n",
      "\n",
      "Attaching package: 'graph'\n",
      "\n",
      "The following objects are masked from 'package:bnlearn':\n",
      "\n",
      "    degree, nodes, nodes<-\n",
      "\n",
      "The following objects are masked from 'package:igraph':\n",
      "\n",
      "    degree, edges, intersection\n",
      "\n",
      "Loading required package: grid\n",
      "\n",
      "Attaching package: 'Rgraphviz'\n",
      "\n",
      "The following object is masked from 'package:bnstruct':\n",
      "\n",
      "    name\n",
      "\n"
     ]
    }
   ],
   "source": [
    "library(\"bnlearn\")\n",
    "library(\"Rgraphviz\")"
   ]
  },
  {
   "cell_type": "code",
   "execution_count": 4,
   "metadata": {
    "ExecuteTime": {
     "end_time": "2019-07-27T10:35:19.793914Z",
     "start_time": "2019-07-27T10:35:19.574Z"
    }
   },
   "outputs": [
    {
     "data": {
      "text/plain": [
       "\n",
       "To cite bnlearn in publications use the most appropriate among:\n",
       "\n",
       "A teaching book about Bayesian networks based on bnlearn:\n",
       "\n",
       "  Marco Scutari, Jean-Baptiste Denis. (2014) Bayesian Networks with\n",
       "  Examples in R. Chapman and Hall, Boca Raton. ISBN 978-1-4822-2558-7.\n",
       "\n",
       "To cite applications of Bayesian networks in genetics and systems\n",
       "biology you may want to use:\n",
       "\n",
       "  Radhakrishnan Nagarajan, Marco Scutari, Sophie Lebre. (2013) Bayesian\n",
       "  Networks in R with Applications in Systems Biology. Springer, New\n",
       "  York. ISBN 978-1-4614-6445-7.\n",
       "\n",
       "To cite parallel computing for bnlearn in publications use:\n",
       "\n",
       "  Marco Scutari (2017). Bayesian Network Constraint-Based Structure\n",
       "  Learning Algorithms: Parallel and Optimized Implementations in the\n",
       "  bnlearn R Package. Journal of Statistical Software, 77(2), 1-20.\n",
       "  doi:10.18637/jss.v077.i02\n",
       "\n",
       "To cite general use of bnlearn in publications use:\n",
       "\n",
       "  Marco Scutari (2010). Learning Bayesian Networks with the bnlearn R\n",
       "  Package. Journal of Statistical Software, 35(3), 1-22. URL\n",
       "  http://www.jstatsoft.org/v35/i03/.\n",
       "\n",
       "This last is the original JSS paper for the package.\n",
       "To see these entries in BibTeX format, use 'print(<citation>,\n",
       "bibtex=TRUE)', 'toBibtex(.)', or set\n",
       "'options(citation.bibtex.max=999)'.\n"
      ]
     },
     "metadata": {},
     "output_type": "display_data"
    }
   ],
   "source": [
    "citation(\"bnlearn\")"
   ]
  },
  {
   "cell_type": "code",
   "execution_count": 5,
   "metadata": {
    "ExecuteTime": {
     "end_time": "2019-07-27T10:35:39.738978Z",
     "start_time": "2019-07-27T10:35:39.069Z"
    }
   },
   "outputs": [
    {
     "name": "stdout",
     "output_type": "stream",
     "text": [
      "'data.frame':\t10000 obs. of  8 variables:\n",
      " $ Asia        : Factor w/ 2 levels \"1\",\"2\": 2 2 1 2 2 2 2 2 2 2 ...\n",
      " $ Tubercolosys: Factor w/ 2 levels \"1\",\"2\": 2 1 1 1 1 1 1 1 1 1 ...\n",
      " $ Smoke       : Factor w/ 2 levels \"1\",\"2\": 1 1 2 2 2 2 2 2 2 2 ...\n",
      " $ LungCancer  : Factor w/ 2 levels \"1\",\"2\": 1 1 1 1 1 1 1 1 1 1 ...\n",
      " $ Bronchitis  : Factor w/ 2 levels \"1\",\"2\": 1 1 1 1 1 1 1 1 1 1 ...\n",
      " $ Either      : Factor w/ 2 levels \"1\",\"2\": 2 1 1 1 1 1 1 1 1 1 ...\n",
      " $ X-ray       : Factor w/ 2 levels \"1\",\"2\": 1 2 2 2 1 2 2 1 1 2 ...\n",
      " $ Dyspnea     : Factor w/ 2 levels \"1\",\"2\": 2 1 1 1 2 2 2 2 2 1 ...\n"
     ]
    }
   ],
   "source": [
    "# convert BNDataset as regular dataframe\n",
    "df.bnlearn <- as.data.frame(raw.data(df))\n",
    "cols <- variables(df)\n",
    "colnames(df.bnlearn) <- cols\n",
    "df.bnlearn[,cols] <- data.frame(apply(df.bnlearn[cols], 2, as.factor)) # convert integer to factor \n",
    "str(df.bnlearn)"
   ]
  },
  {
   "cell_type": "code",
   "execution_count": 7,
   "metadata": {
    "ExecuteTime": {
     "end_time": "2019-07-27T10:36:48.586984Z",
     "start_time": "2019-07-27T10:36:48.316Z"
    },
    "scrolled": false
   },
   "outputs": [
    {
     "data": {
      "text/plain": [
       "\n",
       "  Bayesian network learned via Score-based methods\n",
       "\n",
       "  model:\n",
       "   [Tubercolosys][LungCancer][Bronchitis|LungCancer]\n",
       "   [Either|Tubercolosys:Bronchitis][Dyspnea|Tubercolosys:Bronchitis]\n",
       "   [Smoke|Tubercolosys:Bronchitis:Dyspnea][X-ray|Either]\n",
       "   [Asia|Tubercolosys:Smoke]\n",
       "  nodes:                                 8 \n",
       "  arcs:                                  11 \n",
       "    undirected arcs:                     0 \n",
       "    directed arcs:                       11 \n",
       "  average markov blanket size:           3.00 \n",
       "  average neighbourhood size:            2.75 \n",
       "  average branching factor:              1.38 \n",
       "\n",
       "  learning algorithm:                    Hill-Climbing \n",
       "  score:                                 Cooper & Herskovits' K2 \n",
       "  tests used in the learning procedure:  175 \n",
       "  optimized:                             TRUE \n"
      ]
     },
     "metadata": {},
     "output_type": "display_data"
    }
   ],
   "source": [
    "bn.k2 <- hc(df.bnlearn, score = \"k2\") # learn network structure with K2 algorithm\n",
    "bn.k2"
   ]
  },
  {
   "cell_type": "code",
   "execution_count": 8,
   "metadata": {
    "ExecuteTime": {
     "end_time": "2019-07-27T10:36:54.419584Z",
     "start_time": "2019-07-27T10:36:53.811Z"
    }
   },
   "outputs": [
    {
     "data": {
      "image/png": "[encoded data removed]",
      "text/plain": [
       "plot without title"
      ]
     },
     "metadata": {},
     "output_type": "display_data"
    }
   ],
   "source": [
    "graphviz.plot(bn.k2)"
   ]
  },
  {
   "cell_type": "code",
   "execution_count": 12,
   "metadata": {
    "ExecuteTime": {
     "end_time": "2019-07-27T10:37:43.989516Z",
     "start_time": "2019-07-27T10:37:43.737Z"
    },
    "scrolled": false
   },
   "outputs": [
    {
     "data": {
      "text/html": [
       "<dl>\n",
       "\t<dt>$tp</dt>\n",
       "\t\t<dd>4</dd>\n",
       "\t<dt>$fp</dt>\n",
       "\t\t<dd>7</dd>\n",
       "\t<dt>$fn</dt>\n",
       "\t\t<dd>7</dd>\n",
       "</dl>\n"
      ],
      "text/latex": [
       "\\begin{description}\n",
       "\\item[\\$tp] 4\n",
       "\\item[\\$fp] 7\n",
       "\\item[\\$fn] 7\n",
       "\\end{description}\n"
      ],
      "text/markdown": [
       "$tp\n",
       ":   4\n",
       "$fp\n",
       ":   7\n",
       "$fn\n",
       ":   7\n",
       "\n",
       "\n"
      ],
      "text/plain": [
       "$tp\n",
       "[1] 4\n",
       "\n",
       "$fp\n",
       "[1] 7\n",
       "\n",
       "$fn\n",
       "[1] 7\n"
      ]
     },
     "metadata": {},
     "output_type": "display_data"
    }
   ],
   "source": [
    "bn.aic <- hc(df.bnlearn, score = \"aic\")\n",
    "compare(bn.aic, bn.k2)"
   ]
  },
  {
   "cell_type": "code",
   "execution_count": 15,
   "metadata": {
    "ExecuteTime": {
     "end_time": "2019-07-27T10:38:11.211272Z",
     "start_time": "2019-07-27T10:38:10.222Z"
    },
    "scrolled": false
   },
   "outputs": [
    {
     "data": {
      "image/png": "[encoded data removed]",
      "text/plain": [
       "plot without title"
      ]
     },
     "metadata": {},
     "output_type": "display_data"
    }
   ],
   "source": [
    "bn.tabu <- tabu(df.bnlearn, score = \"k2\")\n",
    "graphviz.plot(bn.tabu)"
   ]
  },
  {
   "cell_type": "code",
   "execution_count": 30,
   "metadata": {
    "ExecuteTime": {
     "end_time": "2019-07-27T15:32:12.286519Z",
     "start_time": "2019-07-27T15:32:08.666Z"
    },
    "scrolled": false
   },
   "outputs": [
    {
     "data": {
      "image/png": "[encoded data removed]",
      "text/plain": [
       "plot without title"
      ]
     },
     "metadata": {},
     "output_type": "display_data"
    },
    {
     "data": {
      "image/png": "[encoded data removed]",
      "text/plain": [
       "plot without title"
      ]
     },
     "metadata": {},
     "output_type": "display_data"
    },
    {
     "data": {
      "image/png": "[encoded data removed]",
      "text/plain": [
       "plot without title"
      ]
     },
     "metadata": {},
     "output_type": "display_data"
    },
    {
     "data": {
      "image/png": "[encoded data removed]",
      "text/plain": [
       "plot without title"
      ]
     },
     "metadata": {},
     "output_type": "display_data"
    },
    {
     "data": {
      "image/png": "[encoded data removed]",
      "text/plain": [
       "plot without title"
      ]
     },
     "metadata": {},
     "output_type": "display_data"
    },
    {
     "data": {
      "image/png": "[encoded data removed]",
      "text/plain": [
       "plot without title"
      ]
     },
     "metadata": {},
     "output_type": "display_data"
    },
    {
     "data": {
      "image/png": "[encoded data removed]",
      "text/plain": [
       "plot without title"
      ]
     },
     "metadata": {},
     "output_type": "display_data"
    },
    {
     "data": {
      "image/png": "[encoded data removed]",
      "text/plain": [
       "plot without title"
      ]
     },
     "metadata": {},
     "output_type": "display_data"
    },
    {
     "data": {
      "image/png": "[encoded data removed]",
      "text/plain": [
       "plot without title"
      ]
     },
     "metadata": {},
     "output_type": "display_data"
    }
   ],
   "source": [
    "for (i in c(\"loglik\",\"aic\",\"bic\",\"bde\",\"bds\",\"bdj\",\"k2\",\"mbde\",\"bdla\")) {\n",
    "    graphviz.plot(hc(df.bnlearn, score = i, maxp = 2), main = i)\n",
    "}"
   ]
  },
  {
   "cell_type": "code",
   "execution_count": 42,
   "metadata": {
    "ExecuteTime": {
     "end_time": "2019-07-27T15:45:15.686682Z",
     "start_time": "2019-07-27T15:45:15.279Z"
    }
   },
   "outputs": [
    {
     "data": {
      "image/png": "[encoded data removed]",
      "text/plain": [
       "plot without title"
      ]
     },
     "metadata": {},
     "output_type": "display_data"
    }
   ],
   "source": [
    "e = empty.graph(cols)\n",
    "amat(e) = actual.net\n",
    "graphviz.plot(e, main = \"Actual Network\")"
   ]
  },
  {
   "cell_type": "code",
   "execution_count": 48,
   "metadata": {
    "ExecuteTime": {
     "end_time": "2019-07-27T15:54:45.574473Z",
     "start_time": "2019-07-27T15:54:45.043Z"
    },
    "scrolled": false
   },
   "outputs": [
    {
     "data": {
      "image/png": "[encoded data removed]",
      "text/plain": [
       "plot without title"
      ]
     },
     "metadata": {},
     "output_type": "display_data"
    }
   ],
   "source": [
    "learned.hc <- hc(df.bnlearn, score = \"k2\", maxp = 2, start = e)\n",
    "graphviz.plot(learned.hc, main = \"k2\")"
   ]
  },
  {
   "cell_type": "markdown",
   "metadata": {},
   "source": [
    "## `Rcpp`"
   ]
  },
  {
   "cell_type": "code",
   "execution_count": 7,
   "metadata": {
    "ExecuteTime": {
     "end_time": "2019-07-28T09:33:17.035682Z",
     "start_time": "2019-07-28T09:33:16.904Z"
    }
   },
   "outputs": [
    {
     "ename": "ERROR",
     "evalue": "Error in library(\"Rcpp\"): there is no package called 'Rcpp'\n",
     "output_type": "error",
     "traceback": [
      "Error in library(\"Rcpp\"): there is no package called 'Rcpp'\nTraceback:\n",
      "1. library(\"Rcpp\")"
     ]
    }
   ],
   "source": [
    "library('Rcpp')"
   ]
  },
  {
   "cell_type": "code",
   "execution_count": 4,
   "metadata": {
    "ExecuteTime": {
     "end_time": "2019-07-28T09:32:38.152537Z",
     "start_time": "2019-07-28T09:32:38.008Z"
    }
   },
   "outputs": [
    {
     "name": "stderr",
     "output_type": "stream",
     "text": [
      "Loading required package: Rcpp\n",
      "Warning message in library(package, lib.loc = lib.loc, character.only = TRUE, logical.return = TRUE, :\n",
      "\"there is no package called 'Rcpp'\""
     ]
    }
   ],
   "source": [
    "require('Rcpp')"
   ]
  },
  {
   "cell_type": "code",
   "execution_count": 6,
   "metadata": {
    "ExecuteTime": {
     "end_time": "2019-07-28T09:33:13.074148Z",
     "start_time": "2019-07-28T09:33:00.400Z"
    }
   },
   "outputs": [
    {
     "name": "stdout",
     "output_type": "stream",
     "text": [
      "package 'Rcpp' successfully unpacked and MD5 sums checked\n"
     ]
    },
    {
     "name": "stderr",
     "output_type": "stream",
     "text": [
      "Warning message:\n",
      "\"cannot remove prior installation of package 'Rcpp'\""
     ]
    },
    {
     "name": "stdout",
     "output_type": "stream",
     "text": [
      "\n",
      "The downloaded binary packages are in\n",
      "\tC:\\Users\\Paolo\\AppData\\Local\\Temp\\RtmpQRgp8H\\downloaded_packages\n"
     ]
    }
   ],
   "source": [
    "install.packages('Rcpp', repo=\"https://cran.stat.unipd.it/\")"
   ]
  },
  {
   "cell_type": "code",
   "execution_count": 2,
   "metadata": {
    "ExecuteTime": {
     "end_time": "2019-07-28T09:17:11.664245Z",
     "start_time": "2019-07-28T09:16:43.990Z"
    },
    "scrolled": true
   },
   "outputs": [
    {
     "name": "stdout",
     "output_type": "stream",
     "text": [
      "g++  -I\"C:/PROGRA~3/ANACON~1/envs/r_env/lib/R/include\" -DNDEBUG   -I\"C:/ProgramData/Anaconda3/envs/r_env/Lib/R/library/Rcpp/include\" -I\"C:/Users/Paolo/Desktop/Exam\"   -I\"C:/PROGRA~3/ANACON~1/envs/r_env/lib/R/../../Library/mingw-w64/include\"     -O2 -Wall  -march=x86-64 -mtune=generic -c rk2alg.cpp -o rk2alg.o\n"
     ]
    },
    {
     "ename": "ERROR",
     "evalue": "Error in sourceCpp(\"rk2alg.cpp\"): Error 1 occurred building shared library.\n",
     "output_type": "error",
     "traceback": [
      "Error in sourceCpp(\"rk2alg.cpp\"): Error 1 occurred building shared library.\nTraceback:\n",
      "1. sourceCpp(\"rk2alg.cpp\")",
      "2. stop(\"Error \", status, \" occurred building shared library.\")"
     ]
    }
   ],
   "source": [
    "cmpRes <- sourceCpp(\"rk2alg.cpp\")\n",
    "cmpRes"
   ]
  },
  {
   "cell_type": "code",
   "execution_count": 8,
   "metadata": {
    "ExecuteTime": {
     "end_time": "2019-07-28T09:26:03.832587Z",
     "start_time": "2019-07-28T09:26:03.581Z"
    }
   },
   "outputs": [
    {
     "name": "stderr",
     "output_type": "stream",
     "text": [
      "Warning message:\n",
      "\"package 'devtools' was built under R version 3.6.1\"Loading required package: usethis\n",
      "Warning message:\n",
      "\"package 'usethis' was built under R version 3.6.1\"Error: package or namespace load failed for 'usethis' in loadNamespace(i, c(lib.loc, .libPaths()), versionCheck = vI[[i]]):\n",
      " namespace 'fs' 1.2.7 is being loaded, but >= 1.3.0 is required\n"
     ]
    },
    {
     "ename": "ERROR",
     "evalue": "Error: package 'usethis' could not be loaded\n",
     "output_type": "error",
     "traceback": [
      "Error: package 'usethis' could not be loaded\nTraceback:\n",
      "1. library(\"devtools\")",
      "2. .getRequiredPackages2(pkgInfo, quietly = quietly)",
      "3. stop(gettextf(\"package %s could not be loaded\", sQuote(pkg)), \n .     call. = FALSE, domain = NA)"
     ]
    }
   ],
   "source": [
    "library('devtools')"
   ]
  },
  {
   "cell_type": "code",
   "execution_count": 9,
   "metadata": {
    "ExecuteTime": {
     "end_time": "2019-07-27T16:57:50.674273Z",
     "start_time": "2019-07-27T16:57:49.624Z"
    }
   },
   "outputs": [],
   "source": [
    "?sourceCpp"
   ]
  },
  {
   "cell_type": "code",
   "execution_count": 22,
   "metadata": {
    "ExecuteTime": {
     "end_time": "2019-07-27T17:12:11.627983Z",
     "start_time": "2019-07-27T17:12:11.551Z"
    }
   },
   "outputs": [],
   "source": [
    "wd <- getwd()"
   ]
  },
  {
   "cell_type": "code",
   "execution_count": 59,
   "metadata": {
    "ExecuteTime": {
     "end_time": "2019-07-27T16:41:52.979645Z",
     "start_time": "2019-07-27T16:41:52.352Z"
    }
   },
   "outputs": [],
   "source": [
    "?setwd()"
   ]
  },
  {
   "cell_type": "code",
   "execution_count": 11,
   "metadata": {
    "ExecuteTime": {
     "end_time": "2019-07-27T17:03:31.614680Z",
     "start_time": "2019-07-27T17:03:31.491Z"
    }
   },
   "outputs": [
    {
     "data": {
      "text/html": [
       "'LC_COLLATE=English_United States.1252;LC_CTYPE=English_United States.1252;LC_MONETARY=English_United States.1252;LC_NUMERIC=C;LC_TIME=English_United States.1252'"
      ],
      "text/latex": [
       "'LC\\_COLLATE=English\\_United States.1252;LC\\_CTYPE=English\\_United States.1252;LC\\_MONETARY=English\\_United States.1252;LC\\_NUMERIC=C;LC\\_TIME=English\\_United States.1252'"
      ],
      "text/markdown": [
       "'LC_COLLATE=English_United States.1252;LC_CTYPE=English_United States.1252;LC_MONETARY=English_United States.1252;LC_NUMERIC=C;LC_TIME=English_United States.1252'"
      ],
      "text/plain": [
       "[1] \"LC_COLLATE=English_United States.1252;LC_CTYPE=English_United States.1252;LC_MONETARY=English_United States.1252;LC_NUMERIC=C;LC_TIME=English_United States.1252\""
      ]
     },
     "metadata": {},
     "output_type": "display_data"
    }
   ],
   "source": [
    "Sys.setlocale(category = \"LC_ALL\", locale = \"English_United States.1252\")"
   ]
  },
  {
   "cell_type": "code",
   "execution_count": 14,
   "metadata": {
    "ExecuteTime": {
     "end_time": "2019-07-27T17:03:55.484610Z",
     "start_time": "2019-07-27T17:03:55.365Z"
    }
   },
   "outputs": [
    {
     "data": {
      "text/html": [
       "'LC_COLLATE=English_United States.1252;LC_CTYPE=English_United States.1252;LC_MONETARY=English_United States.1252;LC_NUMERIC=C;LC_TIME=English_United States.1252'"
      ],
      "text/latex": [
       "'LC\\_COLLATE=English\\_United States.1252;LC\\_CTYPE=English\\_United States.1252;LC\\_MONETARY=English\\_United States.1252;LC\\_NUMERIC=C;LC\\_TIME=English\\_United States.1252'"
      ],
      "text/markdown": [
       "'LC_COLLATE=English_United States.1252;LC_CTYPE=English_United States.1252;LC_MONETARY=English_United States.1252;LC_NUMERIC=C;LC_TIME=English_United States.1252'"
      ],
      "text/plain": [
       "[1] \"LC_COLLATE=English_United States.1252;LC_CTYPE=English_United States.1252;LC_MONETARY=English_United States.1252;LC_NUMERIC=C;LC_TIME=English_United States.1252\""
      ]
     },
     "metadata": {},
     "output_type": "display_data"
    }
   ],
   "source": [
    "Sys.getlocale()"
   ]
  },
  {
   "cell_type": "code",
   "execution_count": 17,
   "metadata": {
    "ExecuteTime": {
     "end_time": "2019-07-27T17:05:33.176619Z",
     "start_time": "2019-07-27T17:05:33.061Z"
    }
   },
   "outputs": [
    {
     "ename": "ERROR",
     "evalue": "Error in Encoding(): argument \"x\" is missing, with no default\n",
     "output_type": "error",
     "traceback": [
      "Error in Encoding(): argument \"x\" is missing, with no default\nTraceback:\n",
      "1. Encoding()"
     ]
    }
   ],
   "source": [
    "Encoding()"
   ]
  },
  {
   "cell_type": "code",
   "execution_count": 19,
   "metadata": {
    "ExecuteTime": {
     "end_time": "2019-07-27T17:07:50.034662Z",
     "start_time": "2019-07-27T17:07:49.981Z"
    }
   },
   "outputs": [
    {
     "ename": "ERROR",
     "evalue": "Error in openFile(): could not find function \"openFile\"\n",
     "output_type": "error",
     "traceback": [
      "Error in openFile(): could not find function \"openFile\"\nTraceback:\n"
     ]
    }
   ],
   "source": [
    "openFile()"
   ]
  },
  {
   "cell_type": "code",
   "execution_count": 21,
   "metadata": {
    "ExecuteTime": {
     "end_time": "2019-07-27T17:09:33.542823Z",
     "start_time": "2019-07-27T17:09:33.392Z"
    }
   },
   "outputs": [
    {
     "data": {
      "text/html": [
       "'rk2alg.cpp'"
      ],
      "text/latex": [
       "'rk2alg.cpp'"
      ],
      "text/markdown": [
       "'rk2alg.cpp'"
      ],
      "text/plain": [
       "[1] \"rk2alg.cpp\""
      ]
     },
     "metadata": {},
     "output_type": "display_data"
    }
   ],
   "source": [
    "file.path(\"rk2alg.cpp\")"
   ]
  },
  {
   "cell_type": "code",
   "execution_count": 31,
   "metadata": {
    "ExecuteTime": {
     "end_time": "2019-07-27T17:14:37.078571Z",
     "start_time": "2019-07-27T17:14:36.944Z"
    }
   },
   "outputs": [],
   "source": [
    "Encoding(file) <- \"UTF-8\""
   ]
  },
  {
   "cell_type": "code",
   "execution_count": 32,
   "metadata": {
    "ExecuteTime": {
     "end_time": "2019-07-27T17:14:40.921302Z",
     "start_time": "2019-07-27T17:14:40.762Z"
    }
   },
   "outputs": [
    {
     "data": {
      "text/html": [
       "'C:/Users/Paolo/OneDrive - Università degli Studi di Padova/R/Exam/rk2alg.cpp'"
      ],
      "text/latex": [
       "'C:/Users/Paolo/OneDrive - Università degli Studi di Padova/R/Exam/rk2alg.cpp'"
      ],
      "text/markdown": [
       "'C:/Users/Paolo/OneDrive - Università degli Studi di Padova/R/Exam/rk2alg.cpp'"
      ],
      "text/plain": [
       "[1] \"C:/Users/Paolo/OneDrive - Università degli Studi di Padova/R/Exam/rk2alg.cpp\""
      ]
     },
     "metadata": {},
     "output_type": "display_data"
    }
   ],
   "source": [
    "file"
   ]
  },
  {
   "cell_type": "code",
   "execution_count": 30,
   "metadata": {
    "ExecuteTime": {
     "end_time": "2019-07-27T17:14:32.482004Z",
     "start_time": "2019-07-27T17:14:32.377Z"
    }
   },
   "outputs": [],
   "source": [
    "file <- paste(getwd(), '/rk2alg.cpp',sep = '')"
   ]
  },
  {
   "cell_type": "code",
   "execution_count": 28,
   "metadata": {
    "ExecuteTime": {
     "end_time": "2019-07-27T17:13:31.100594Z",
     "start_time": "2019-07-27T17:13:29.746Z"
    }
   },
   "outputs": [],
   "source": [
    "?paste"
   ]
  },
  {
   "cell_type": "code",
   "execution_count": null,
   "metadata": {},
   "outputs": [],
   "source": []
  }
 ],
 "metadata": {
  "kernelspec": {
   "display_name": "R",
   "language": "R",
   "name": "ir"
  },
  "language_info": {
   "codemirror_mode": "r",
   "file_extension": ".r",
   "mimetype": "text/x-r-source",
   "name": "R",
   "pygments_lexer": "r",
   "version": "3.6.0"
  },
  "varInspector": {
   "cols": {
    "lenName": 16,
    "lenType": 16,
    "lenVar": 40
   },
   "kernels_config": {
    "python": {
     "delete_cmd_postfix": "",
     "delete_cmd_prefix": "del ",
     "library": "var_list.py",
     "varRefreshCmd": "print(var_dic_list())"
    },
    "r": {
     "delete_cmd_postfix": ") ",
     "delete_cmd_prefix": "rm(",
     "library": "var_list.r",
     "varRefreshCmd": "cat(var_dic_list()) "
    }
   },
   "types_to_exclude": [
    "module",
    "function",
    "builtin_function_or_method",
    "instance",
    "_Feature"
   ],
   "window_display": false
  }
 },
 "nbformat": 4,
 "nbformat_minor": 2
}
