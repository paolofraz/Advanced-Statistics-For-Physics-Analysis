{
 "cells": [
  {
   "cell_type": "code",
   "execution_count": 1,
   "metadata": {},
   "outputs": [],
   "source": [
    "#install.packages('Rcpp')\n",
    "#install.packages('bnstruct')\n",
    "#install.packages('bnlearn')"
   ]
  },
  {
   "cell_type": "markdown",
   "metadata": {},
   "source": [
    "# Caro Garfa ti scrivo"
   ]
  },
  {
   "cell_type": "markdown",
   "metadata": {},
   "source": [
    "The computationally expensive part of the algorithm is the counting of different instances of variables in the dataset. Given the value $k$ of the variable $i$ of cardinality $r_i$ we are looking at, its (candidate) parents $\\pi_i=(\\pi_{i1},\\dots, \\pi_{iM})$ and their cardinality $r_{\\pi_{i1}}, \\dots, r_{\\pi_{iM}}$, we would need to distinguish and count $q_i=\\prod_{l=1}^M r_{\\pi_{il}}$ possible types of rows in the dataset in order to compute $N_{ijk}$; this would require a relatively trivial mapping from the values of the variables and the configuration index $j=1\\dots q_i$ and different _for loops_ which are not \"native\" in R, i.e. they are executed at runtime, not compiled.\n",
    "\n",
    "Another problem we occured in is the computation of factorials; for small datasets this is feasible but for bigger ones the factorial of $N_{ijk}$ grows very fast "
   ]
  },
  {
   "cell_type": "code",
   "execution_count": 2,
   "metadata": {},
   "outputs": [
    {
     "name": "stderr",
     "output_type": "stream",
     "text": [
      "Loading required package: bitops\n",
      "Loading required package: Matrix\n",
      "Loading required package: igraph\n",
      "\n",
      "Attaching package: ‘igraph’\n",
      "\n",
      "The following objects are masked from ‘package:stats’:\n",
      "\n",
      "    decompose, spectrum\n",
      "\n",
      "The following object is masked from ‘package:base’:\n",
      "\n",
      "    union\n",
      "\n",
      "\n",
      "Attaching package: ‘bnlearn’\n",
      "\n",
      "The following objects are masked from ‘package:bnstruct’:\n",
      "\n",
      "    impute, read.bif, read.dsc, read.net, shd, write.dsc\n",
      "\n",
      "The following objects are masked from ‘package:igraph’:\n",
      "\n",
      "    compare, degree, path, subgraph\n",
      "\n",
      "The following object is masked from ‘package:stats’:\n",
      "\n",
      "    sigma\n",
      "\n"
     ]
    }
   ],
   "source": [
    "library(Rcpp)\n",
    "library(bnstruct)\n",
    "library(bnlearn)"
   ]
  },
  {
   "cell_type": "code",
   "execution_count": 3,
   "metadata": {},
   "outputs": [
    {
     "data": {
      "text/html": [
       "<dl>\n",
       "\t<dt>$functions</dt>\n",
       "\t\t<dd><ol class=list-inline>\n",
       "\t<li>'compute_instance_index'</li>\n",
       "\t<li>'compute_alpha'</li>\n",
       "\t<li>'k2procedure'</li>\n",
       "\t<li>'conditionalProb'</li>\n",
       "</ol>\n",
       "</dd>\n",
       "\t<dt>$modules</dt>\n",
       "\t\t<dd></dd>\n",
       "\t<dt>$cppSourcePath</dt>\n",
       "\t\t<dd>'/home/vicio/Scrivania/Cpp/rk2alg.cpp'</dd>\n",
       "\t<dt>$buildDirectory</dt>\n",
       "\t\t<dd>'/tmp/RtmpNBNRAr/sourceCpp-x86_64-pc-linux-gnu-1.0.1/sourcecpp_7136fad4467'</dd>\n",
       "</dl>\n"
      ],
      "text/latex": [
       "\\begin{description}\n",
       "\\item[\\$functions] \\begin{enumerate*}\n",
       "\\item 'compute\\_instance\\_index'\n",
       "\\item 'compute\\_alpha'\n",
       "\\item 'k2procedure'\n",
       "\\item 'conditionalProb'\n",
       "\\end{enumerate*}\n",
       "\n",
       "\\item[\\$modules] \n",
       "\\item[\\$cppSourcePath] '/home/vicio/Scrivania/Cpp/rk2alg.cpp'\n",
       "\\item[\\$buildDirectory] '/tmp/RtmpNBNRAr/sourceCpp-x86\\_64-pc-linux-gnu-1.0.1/sourcecpp\\_7136fad4467'\n",
       "\\end{description}\n"
      ],
      "text/markdown": [
       "$functions\n",
       ":   1. 'compute_instance_index'\n",
       "2. 'compute_alpha'\n",
       "3. 'k2procedure'\n",
       "4. 'conditionalProb'\n",
       "\n",
       "\n",
       "\n",
       "$modules\n",
       ":   \n",
       "$cppSourcePath\n",
       ":   '/home/vicio/Scrivania/Cpp/rk2alg.cpp'\n",
       "$buildDirectory\n",
       ":   '/tmp/RtmpNBNRAr/sourceCpp-x86_64-pc-linux-gnu-1.0.1/sourcecpp_7136fad4467'\n",
       "\n",
       "\n"
      ],
      "text/plain": [
       "$functions\n",
       "[1] \"compute_instance_index\" \"compute_alpha\"          \"k2procedure\"           \n",
       "[4] \"conditionalProb\"       \n",
       "\n",
       "$modules\n",
       "character(0)\n",
       "\n",
       "$cppSourcePath\n",
       "[1] \"/home/vicio/Scrivania/Cpp/rk2alg.cpp\"\n",
       "\n",
       "$buildDirectory\n",
       "[1] \"/tmp/RtmpNBNRAr/sourceCpp-x86_64-pc-linux-gnu-1.0.1/sourcecpp_7136fad4467\"\n"
      ]
     },
     "metadata": {},
     "output_type": "display_data"
    }
   ],
   "source": [
    "cmpRes <- sourceCpp('rk2alg.cpp')\n",
    "cmpRes"
   ]
  },
  {
   "cell_type": "code",
   "execution_count": 4,
   "metadata": {},
   "outputs": [],
   "source": [
    "order <- c(0,1,2)  \n",
    "r <- c(2,2,2)\n",
    "data <- matrix(c(1,0,0,1,1,1,0,0,1,1,1,1,0,0,0,0,1,1,1,1,1,0,0,0,1,1,1,0,0,0), 10,3, byrow=T)\n",
    "mode(data) <- \"integer\""
   ]
  },
  {
   "cell_type": "code",
   "execution_count": 5,
   "metadata": {},
   "outputs": [
    {
     "data": {
      "text/html": [
       "<table>\n",
       "<caption>A matrix: 3 × 3 of type int</caption>\n",
       "<thead>\n",
       "\t<tr><th></th><th scope=col>x0</th><th scope=col>x1</th><th scope=col>x2</th></tr>\n",
       "</thead>\n",
       "<tbody>\n",
       "\t<tr><th scope=row>x0</th><td>0</td><td>1</td><td>0</td></tr>\n",
       "\t<tr><th scope=row>x1</th><td>0</td><td>0</td><td>1</td></tr>\n",
       "\t<tr><th scope=row>x2</th><td>0</td><td>0</td><td>0</td></tr>\n",
       "</tbody>\n",
       "</table>\n"
      ],
      "text/latex": [
       "A matrix: 3 × 3 of type int\n",
       "\\begin{tabular}{r|lll}\n",
       "  & x0 & x1 & x2\\\\\n",
       "\\hline\n",
       "\tx0 & 0 & 1 & 0\\\\\n",
       "\tx1 & 0 & 0 & 1\\\\\n",
       "\tx2 & 0 & 0 & 0\\\\\n",
       "\\end{tabular}\n"
      ],
      "text/markdown": [
       "\n",
       "A matrix: 3 × 3 of type int\n",
       "\n",
       "| <!--/--> | x0 | x1 | x2 |\n",
       "|---|---|---|---|\n",
       "| x0 | 0 | 1 | 0 |\n",
       "| x1 | 0 | 0 | 1 |\n",
       "| x2 | 0 | 0 | 0 |\n",
       "\n"
      ],
      "text/plain": [
       "   x0 x1 x2\n",
       "x0 0  1  0 \n",
       "x1 0  0  1 \n",
       "x2 0  0  0 "
      ]
     },
     "metadata": {},
     "output_type": "display_data"
    }
   ],
   "source": [
    "res <- k2procedure(data,r,order,u=2,returnType=1)\n",
    "res"
   ]
  },
  {
   "cell_type": "code",
   "execution_count": 6,
   "metadata": {},
   "outputs": [
    {
     "data": {
      "image/png": "[encoded data removed]",
      "text/plain": [
       "plot without title"
      ]
     },
     "metadata": {},
     "output_type": "display_data"
    }
   ],
   "source": [
    "df <- data.frame(data)\n",
    "df <- data.frame(sapply(df, as.factor))\n",
    "res <- hc(df, score='k2')\n",
    "plot(res)"
   ]
  },
  {
   "cell_type": "markdown",
   "metadata": {},
   "source": [
    "### Bigger dataset"
   ]
  },
  {
   "cell_type": "code",
   "execution_count": 17,
   "metadata": {
    "scrolled": false
   },
   "outputs": [],
   "source": [
    "X <- as.matrix(asia)\n",
    "n <- dim(X)[2]\n",
    "m <- dim(X)[1]\n",
    "X[X=='yes']=1\n",
    "X[X=='no']=0\n",
    "X<-matrix(as.integer(as.character(X)), m, n)\n",
    "order <- c(0,1,2,4,5,6,7,3)\n",
    "r <- rep(2, 8)\n",
    "X_train <- X[sample(m,100),]\n",
    "res <- k2procedure(X_train,r,order,4,)"
   ]
  },
  {
   "cell_type": "code",
   "execution_count": 27,
   "metadata": {},
   "outputs": [
    {
     "data": {
      "text/html": [
       "<table>\n",
       "<caption>A matrix: 8 × 8 of type int</caption>\n",
       "<thead>\n",
       "\t<tr><th></th><th scope=col>x0</th><th scope=col>x1</th><th scope=col>x2</th><th scope=col>x3</th><th scope=col>x4</th><th scope=col>x5</th><th scope=col>x6</th><th scope=col>x7</th></tr>\n",
       "</thead>\n",
       "<tbody>\n",
       "\t<tr><th scope=row>x0</th><td>0</td><td>0</td><td>0</td><td>0</td><td>1</td><td>0</td><td>0</td><td>0</td></tr>\n",
       "\t<tr><th scope=row>x1</th><td>0</td><td>0</td><td>0</td><td>0</td><td>0</td><td>1</td><td>1</td><td>0</td></tr>\n",
       "\t<tr><th scope=row>x2</th><td>0</td><td>0</td><td>0</td><td>0</td><td>1</td><td>1</td><td>1</td><td>0</td></tr>\n",
       "\t<tr><th scope=row>x3</th><td>0</td><td>0</td><td>0</td><td>0</td><td>0</td><td>0</td><td>0</td><td>0</td></tr>\n",
       "\t<tr><th scope=row>x4</th><td>0</td><td>0</td><td>0</td><td>1</td><td>0</td><td>1</td><td>1</td><td>0</td></tr>\n",
       "\t<tr><th scope=row>x5</th><td>0</td><td>0</td><td>0</td><td>1</td><td>0</td><td>0</td><td>0</td><td>0</td></tr>\n",
       "\t<tr><th scope=row>x6</th><td>0</td><td>0</td><td>0</td><td>0</td><td>0</td><td>0</td><td>0</td><td>0</td></tr>\n",
       "\t<tr><th scope=row>x7</th><td>0</td><td>0</td><td>0</td><td>0</td><td>0</td><td>0</td><td>0</td><td>0</td></tr>\n",
       "</tbody>\n",
       "</table>\n"
      ],
      "text/latex": [
       "A matrix: 8 × 8 of type int\n",
       "\\begin{tabular}{r|llllllll}\n",
       "  & x0 & x1 & x2 & x3 & x4 & x5 & x6 & x7\\\\\n",
       "\\hline\n",
       "\tx0 & 0 & 0 & 0 & 0 & 1 & 0 & 0 & 0\\\\\n",
       "\tx1 & 0 & 0 & 0 & 0 & 0 & 1 & 1 & 0\\\\\n",
       "\tx2 & 0 & 0 & 0 & 0 & 1 & 1 & 1 & 0\\\\\n",
       "\tx3 & 0 & 0 & 0 & 0 & 0 & 0 & 0 & 0\\\\\n",
       "\tx4 & 0 & 0 & 0 & 1 & 0 & 1 & 1 & 0\\\\\n",
       "\tx5 & 0 & 0 & 0 & 1 & 0 & 0 & 0 & 0\\\\\n",
       "\tx6 & 0 & 0 & 0 & 0 & 0 & 0 & 0 & 0\\\\\n",
       "\tx7 & 0 & 0 & 0 & 0 & 0 & 0 & 0 & 0\\\\\n",
       "\\end{tabular}\n"
      ],
      "text/markdown": [
       "\n",
       "A matrix: 8 × 8 of type int\n",
       "\n",
       "| <!--/--> | x0 | x1 | x2 | x3 | x4 | x5 | x6 | x7 |\n",
       "|---|---|---|---|---|---|---|---|---|\n",
       "| x0 | 0 | 0 | 0 | 0 | 1 | 0 | 0 | 0 |\n",
       "| x1 | 0 | 0 | 0 | 0 | 0 | 1 | 1 | 0 |\n",
       "| x2 | 0 | 0 | 0 | 0 | 1 | 1 | 1 | 0 |\n",
       "| x3 | 0 | 0 | 0 | 0 | 0 | 0 | 0 | 0 |\n",
       "| x4 | 0 | 0 | 0 | 1 | 0 | 1 | 1 | 0 |\n",
       "| x5 | 0 | 0 | 0 | 1 | 0 | 0 | 0 | 0 |\n",
       "| x6 | 0 | 0 | 0 | 0 | 0 | 0 | 0 | 0 |\n",
       "| x7 | 0 | 0 | 0 | 0 | 0 | 0 | 0 | 0 |\n",
       "\n"
      ],
      "text/plain": [
       "   x0 x1 x2 x3 x4 x5 x6 x7\n",
       "x0 0  0  0  0  1  0  0  0 \n",
       "x1 0  0  0  0  0  1  1  0 \n",
       "x2 0  0  0  0  1  1  1  0 \n",
       "x3 0  0  0  0  0  0  0  0 \n",
       "x4 0  0  0  1  0  1  1  0 \n",
       "x5 0  0  0  1  0  0  0  0 \n",
       "x6 0  0  0  0  0  0  0  0 \n",
       "x7 0  0  0  0  0  0  0  0 "
      ]
     },
     "metadata": {},
     "output_type": "display_data"
    }
   ],
   "source": [
    "res <- k2procedure(X,r,order, returnType=1, verbose=0,u=4,splitSize=50)\n",
    "res"
   ]
  },
  {
   "cell_type": "code",
   "execution_count": 19,
   "metadata": {},
   "outputs": [
    {
     "data": {
      "text/html": [
       "<table>\n",
       "<caption>A matrix: 16 × 5 of type dbl</caption>\n",
       "<thead>\n",
       "\t<tr><th scope=col>cond. x1</th><th scope=col>cond. x2</th><th scope=col>cond. x4</th><th scope=col>x6</th><th scope=col>P</th></tr>\n",
       "</thead>\n",
       "<tbody>\n",
       "\t<tr><td>0</td><td>0</td><td>0</td><td>0</td><td>0.94284065</td></tr>\n",
       "\t<tr><td>0</td><td>0</td><td>0</td><td>1</td><td>0.05715935</td></tr>\n",
       "\t<tr><td>0</td><td>0</td><td>1</td><td>0</td><td>0.95212038</td></tr>\n",
       "\t<tr><td>0</td><td>0</td><td>1</td><td>1</td><td>0.04787962</td></tr>\n",
       "\t<tr><td>0</td><td>1</td><td>0</td><td>0</td><td>0.00000000</td></tr>\n",
       "\t<tr><td>0</td><td>1</td><td>0</td><td>1</td><td>1.00000000</td></tr>\n",
       "\t<tr><td>0</td><td>1</td><td>1</td><td>0</td><td>0.00000000</td></tr>\n",
       "\t<tr><td>0</td><td>1</td><td>1</td><td>1</td><td>1.00000000</td></tr>\n",
       "\t<tr><td>1</td><td>0</td><td>0</td><td>0</td><td>0.82930299</td></tr>\n",
       "\t<tr><td>1</td><td>0</td><td>0</td><td>1</td><td>0.17069701</td></tr>\n",
       "\t<tr><td>1</td><td>0</td><td>1</td><td>0</td><td>0.84860335</td></tr>\n",
       "\t<tr><td>1</td><td>0</td><td>1</td><td>1</td><td>0.15139665</td></tr>\n",
       "\t<tr><td>1</td><td>1</td><td>0</td><td>0</td><td>0.00000000</td></tr>\n",
       "\t<tr><td>1</td><td>1</td><td>0</td><td>1</td><td>1.00000000</td></tr>\n",
       "\t<tr><td>1</td><td>1</td><td>1</td><td>0</td><td>0.00000000</td></tr>\n",
       "\t<tr><td>1</td><td>1</td><td>1</td><td>1</td><td>1.00000000</td></tr>\n",
       "</tbody>\n",
       "</table>\n"
      ],
      "text/latex": [
       "A matrix: 16 × 5 of type dbl\n",
       "\\begin{tabular}{lllll}\n",
       " cond. x1 & cond. x2 & cond. x4 & x6 & P\\\\\n",
       "\\hline\n",
       "\t 0 & 0 & 0 & 0 & 0.94284065\\\\\n",
       "\t 0 & 0 & 0 & 1 & 0.05715935\\\\\n",
       "\t 0 & 0 & 1 & 0 & 0.95212038\\\\\n",
       "\t 0 & 0 & 1 & 1 & 0.04787962\\\\\n",
       "\t 0 & 1 & 0 & 0 & 0.00000000\\\\\n",
       "\t 0 & 1 & 0 & 1 & 1.00000000\\\\\n",
       "\t 0 & 1 & 1 & 0 & 0.00000000\\\\\n",
       "\t 0 & 1 & 1 & 1 & 1.00000000\\\\\n",
       "\t 1 & 0 & 0 & 0 & 0.82930299\\\\\n",
       "\t 1 & 0 & 0 & 1 & 0.17069701\\\\\n",
       "\t 1 & 0 & 1 & 0 & 0.84860335\\\\\n",
       "\t 1 & 0 & 1 & 1 & 0.15139665\\\\\n",
       "\t 1 & 1 & 0 & 0 & 0.00000000\\\\\n",
       "\t 1 & 1 & 0 & 1 & 1.00000000\\\\\n",
       "\t 1 & 1 & 1 & 0 & 0.00000000\\\\\n",
       "\t 1 & 1 & 1 & 1 & 1.00000000\\\\\n",
       "\\end{tabular}\n"
      ],
      "text/markdown": [
       "\n",
       "A matrix: 16 × 5 of type dbl\n",
       "\n",
       "| cond. x1 | cond. x2 | cond. x4 | x6 | P |\n",
       "|---|---|---|---|---|\n",
       "| 0 | 0 | 0 | 0 | 0.94284065 |\n",
       "| 0 | 0 | 0 | 1 | 0.05715935 |\n",
       "| 0 | 0 | 1 | 0 | 0.95212038 |\n",
       "| 0 | 0 | 1 | 1 | 0.04787962 |\n",
       "| 0 | 1 | 0 | 0 | 0.00000000 |\n",
       "| 0 | 1 | 0 | 1 | 1.00000000 |\n",
       "| 0 | 1 | 1 | 0 | 0.00000000 |\n",
       "| 0 | 1 | 1 | 1 | 1.00000000 |\n",
       "| 1 | 0 | 0 | 0 | 0.82930299 |\n",
       "| 1 | 0 | 0 | 1 | 0.17069701 |\n",
       "| 1 | 0 | 1 | 0 | 0.84860335 |\n",
       "| 1 | 0 | 1 | 1 | 0.15139665 |\n",
       "| 1 | 1 | 0 | 0 | 0.00000000 |\n",
       "| 1 | 1 | 0 | 1 | 1.00000000 |\n",
       "| 1 | 1 | 1 | 0 | 0.00000000 |\n",
       "| 1 | 1 | 1 | 1 | 1.00000000 |\n",
       "\n"
      ],
      "text/plain": [
       "      cond. x1 cond. x2 cond. x4 x6 P         \n",
       " [1,] 0        0        0        0  0.94284065\n",
       " [2,] 0        0        0        1  0.05715935\n",
       " [3,] 0        0        1        0  0.95212038\n",
       " [4,] 0        0        1        1  0.04787962\n",
       " [5,] 0        1        0        0  0.00000000\n",
       " [6,] 0        1        0        1  1.00000000\n",
       " [7,] 0        1        1        0  0.00000000\n",
       " [8,] 0        1        1        1  1.00000000\n",
       " [9,] 1        0        0        0  0.82930299\n",
       "[10,] 1        0        0        1  0.17069701\n",
       "[11,] 1        0        1        0  0.84860335\n",
       "[12,] 1        0        1        1  0.15139665\n",
       "[13,] 1        1        0        0  0.00000000\n",
       "[14,] 1        1        0        1  1.00000000\n",
       "[15,] 1        1        1        0  0.00000000\n",
       "[16,] 1        1        1        1  1.00000000"
      ]
     },
     "metadata": {},
     "output_type": "display_data"
    }
   ],
   "source": [
    "conditionalProb(6, X, r, c(1,2,4))"
   ]
  },
  {
   "cell_type": "code",
   "execution_count": 21,
   "metadata": {
    "scrolled": false
   },
   "outputs": [
    {
     "data": {
      "text/plain": [
       "\n",
       "  Bayesian network learned via Score-based methods\n",
       "\n",
       "  model:\n",
       "   [X1][X2][X3][X5|X2:X3][X6|X2:X3][X4|X3:X6][X7|X6][X8|X5:X6] \n",
       "  nodes:                                 8 \n",
       "  arcs:                                  9 \n",
       "    undirected arcs:                     0 \n",
       "    directed arcs:                       9 \n",
       "  average markov blanket size:           2.75 \n",
       "  average neighbourhood size:            2.25 \n",
       "  average branching factor:              1.12 \n",
       "\n",
       "  learning algorithm:                    Hill-Climbing \n",
       "  score:                                 Cooper & Herskovits' K2 \n",
       "  tests used in the learning procedure:  73 \n",
       "  optimized:                             TRUE \n"
      ]
     },
     "metadata": {},
     "output_type": "display_data"
    },
    {
     "data": {
      "image/png": "[encoded data removed]",
      "text/plain": [
       "plot without title"
      ]
     },
     "metadata": {},
     "output_type": "display_data"
    }
   ],
   "source": [
    "df <- data.frame(X)\n",
    "df <- data.frame(sapply(df, as.factor))\n",
    "n <- dim(X)[2]\n",
    "\n",
    "\n",
    "\n",
    "blistLen <- (n-1)*(n-2)/2\n",
    "fList <- character(blistLen)\n",
    "tList <- character(blistLen)\n",
    "count = 1\n",
    "for(i in 1:(length(order)-1))\n",
    "{\n",
    "    var <- order[i]+1\n",
    "    for(j in (i+1):length(order))\n",
    "    {\n",
    "        jvar <- order[j] + 1\n",
    "        fList[count] = colnames(df)[jvar]\n",
    "        tList[count] = colnames(df)[var]\n",
    "        count = count + 1\n",
    "    }\n",
    "}\n",
    "blist <- cbind(fList,tList)\n",
    "colnames(blist) <- c('from','to')\n",
    "\n",
    "\n",
    "\n",
    "res <- hc(df, blacklist=blist, score='k2')\n",
    "plot(res)\n",
    "res"
   ]
  },
  {
   "cell_type": "code",
   "execution_count": null,
   "metadata": {},
   "outputs": [],
   "source": []
  }
 ],
 "metadata": {
  "kernelspec": {
   "display_name": "R",
   "language": "R",
   "name": "ir"
  },
  "language_info": {
   "codemirror_mode": "r",
   "file_extension": ".r",
   "mimetype": "text/x-r-source",
   "name": "R",
   "pygments_lexer": "r",
   "version": "3.6.0"
  },
  "varInspector": {
   "cols": {
    "lenName": 16,
    "lenType": 16,
    "lenVar": 40
   },
   "kernels_config": {
    "python": {
     "delete_cmd_postfix": "",
     "delete_cmd_prefix": "del ",
     "library": "var_list.py",
     "varRefreshCmd": "print(var_dic_list())"
    },
    "r": {
     "delete_cmd_postfix": ") ",
     "delete_cmd_prefix": "rm(",
     "library": "var_list.r",
     "varRefreshCmd": "cat(var_dic_list()) "
    }
   },
   "types_to_exclude": [
    "module",
    "function",
    "builtin_function_or_method",
    "instance",
    "_Feature"
   ],
   "window_display": false
  }
 },
 "nbformat": 4,
 "nbformat_minor": 2
}
