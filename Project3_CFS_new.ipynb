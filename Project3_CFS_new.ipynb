{
 "cells": [
  {
   "cell_type": "markdown",
   "metadata": {},
   "source": [
    "## Project 3 \n",
    "# Learning the Topology of a Bayesian Network Using K2 Algorithm"
   ]
  },
  {
   "cell_type": "markdown",
   "metadata": {},
   "source": [
    "### `Alberto Chimenti - Paolo Frazzetto - Vincenzo Schimmenti`"
   ]
  },
  {
   "cell_type": "markdown",
   "metadata": {},
   "source": [
    "<a id='sources'></a>\n",
    "Sources:\n",
    "* [G.F.Cooper and E. Herskovits](https://userswww.pd.infn.it/~agarfa/didattica/AdvStat/ex_projects/P03/Cooper-Herskovits1992_Article_ABayesianMethodForTheInduction.pdf)\n",
    "* [C. Ruiz](https://userswww.pd.infn.it/~agarfa/didattica/AdvStat/ex_projects/P03/10.1.1.190.7306.pdf)\n",
    "* [A. Franzin et al.](https://userswww.pd.infn.it/~agarfa/didattica/AdvStat/ex_projects/P03/10.1.1.190.7306.pdf)\n",
    "* `bnstruct` [F. Sambo and A. Franzin](https://userswww.pd.infn.it/~agarfa/didattica/AdvStat/ex_projects/P03/btw807_supp.pdf)"
   ]
  },
  {
   "cell_type": "markdown",
   "metadata": {},
   "source": [
    "## -- Theoretical introduction"
   ]
  },
  {
   "cell_type": "markdown",
   "metadata": {},
   "source": [
    "A Byesian belief-network structure $B_s$ is a directed acyclic graph in which nodes represent domain variables and arcs between nodes represent probabilistic dependanceies. A variable in such a structure may be continuous or discrete. In the following approach we will consider the discrete case.\n",
    "A BBN structure gives us informations about $\\texttt{dependency relationships}$ among the nodes and can be used for $\\texttt{probabilistic inference}$ over the system, providing a direct way to compute joint probabilities, given the conditional ones associated with the graph's arcs. Since the joint probability of a given instantiation of the system variables can be computed as:\n",
    "$$P(X_1,X_2,...,X_n)=\\prod_{i=1}^{n}P(X_{i}|\\pi_{i})$$\n",
    "where $\\pi_{i}$ are the \"parent\" nodes of the variable $x_{i}$\n",
    "\n",
    "Using a Bayesian approach such a network can be constructed starting from a database which presents several records of the values combination of the system variables.\n",
    "One can find the most probable belief-network structure, given the dataset.\n",
    "\n",
    "Let $\\textbf{D}$ be a dataset of cases (records), $\\textbf{Z}$ be the set of variables represented by D, $B_{S_{i}}$ and $B_{S_{j}}$ be two b-n structures containing the variables that are in Z. By computing $\\frac{P(B_{S_{i}}|D)}{P(B_{S_{j}}|D)}$ for pairs of b-n structures one can rank order a set of structures by their posterior probabilities.\n",
    "We can easly proove that:\n",
    "$$\\frac{P(B_{S_{i}}|D)}{P(B_{S_{j}}|D)}=\\frac{P(B_{S_{i}},D)}{P(B_{S_{j}},D)}\\;\\;\\;\\;\\;\\;\\;\\;\\; (1)$$\n",
    "and therefore compute $P(B_{S_{i}},D)$ instead of the conditional probabilities.\n",
    "\n",
    "***\n",
    "\n",
    "Formally:\n",
    "\n",
    "##### Theorem\n",
    "\n",
    "Let Z be a set of n variables, where a variable $x_i$ in Z has $r_i$ possible value assignments: ($\\nu_{i_1}$,...,$\\nu_{i_{ri}}$). Let D be a database of m cases, where each case contains a value assignment for each variable in Z. Each variable $x_i$ in $B_{S}$ has a set of parents, which we represent with a list of variables $\\pi_{i}$. Let $w_{ij}$ denote jth unique instantiation of $\\pi_{i}$, relative to D. Suppose there are $q_i$ such unique instantiations of $\\pi_{i}$. Define $N_{ijk}$ to be the number of cases in D in which variable $x_i$ has the value $\\nu_{ik}$ and $\\pi_{i}$ is instantiated as $w_{ij}$. Let\n",
    "$$N_{ij}=\\sum_{k=1}^{r_{i}}N_{ijk}$$\n",
    "\n",
    "\n",
    "Suppose the following assumptions hold:\n",
    "\n",
    "1. The database variables in Z are discrete.\n",
    "2. Cases occur indipendently, given a bilief-network structure.\n",
    "3. There are no cases that have variables with missing values.\n",
    "4. Before observing D, we are indifferent regarding which numerical probabilities to assign to the belief network with structure $B_S$.\n",
    "\n",
    "It follows that:\n",
    "\n",
    "$$P(B_{S},D)=P(B_{S})\\prod_{i=1}^{n}\\prod_{j=1}^{q_{i}}\\frac{(r_{i}-1)!}{(N_{ij}+r_{i}-1)}\\prod_{k=1}^{r_{i}}N_{ijk}!\\;\\;\\;\\;\\;\\;\\;\\;\\; (2)$$\n",
    "\n",
    "***\n",
    "###### Derivazione si può inserire infondo tipo in un'appendice, ma è lunghetta, oppure si può semplicemente fare riferimento all'articolo dove è tutto spiegato.\n",
    "***"
   ]
  },
  {
   "cell_type": "markdown",
   "metadata": {},
   "source": [
    "***\n",
    "### Most probable belief-network structure: framework and assumptions overview"
   ]
  },
  {
   "cell_type": "markdown",
   "metadata": {},
   "source": [
    "The aim here is to find, given a dataset D, the most probable b-n structure, i.e. finding the structure $B_S$ which maximizes the conditional probability $P(B_S|D)$.\n",
    "Using equation (1) we can say that $P(B_S|D)\\propto P(B_S, D)$ and therefore, finding the structure which maximizes $P(B_S|D)$ is the same as finding the one that maximizes $P(B_S,D)$.\n",
    "\n",
    "It is worth underlining a recursive equation found by Robinson(1977) which gives the number of possible structures that contain n nodes:\n",
    "$$f(n)=\\sum_{i=1}^{n}(-1)^{i+1}{n\\choose i}2^{i(n-1)}f(n-i)$$\n",
    "which leads to $4.2*10^{18}$ structures for $n=10$.\n",
    "\n",
    "In order to simplify the calculations some assumptions are introduced:\n",
    "\n",
    "##### - Ordering Assumption\n",
    "A good solution for the problem just exposed is proposed by [G.F.Cooper and E. Herskovits](#sources) in their paper.\n",
    "They assume that one can specify an ordering for the n variables, such that, if $x_i$ precedes $x_j$ in the ordering then it is not allowed to have structures in which there is an arc from $x_j$ to $x_i$. Thus we only $2^{n\\choose 2}$ structures remain.\n",
    "\n",
    "##### - Equal Priors Assumption\n",
    "In order to further simplify the calculations of equation (2), [G.F.Cooper and E. Herskovits](#sources) assume that the prior probabilities $P(B_S)$ is the same for all structures.\n",
    "\n",
    "#### - Maximum Number of Parents\n",
    "To reduce the computational cost needed a maximum number of parents for each node should be imposed.\n",
    "\n",
    "***\n",
    "\n",
    "The listed assumptions yield the maximization equation:\n",
    "$$max_{B_S}[P(B_{S},D)]=c\\prod_{i=1}^{n}max_{\\pi_{i}}\\Big[\\prod_{j=1}^{q_{i}}\\frac{(r_{i}-1)!}{(N_{ij}+r_{i}-1)}\\prod_{k=1}^{r_{i}}N_{ijk}!\\Big]\\;\\;\\;\\;\\;\\;\\;\\;\\; (3)$$"
   ]
  },
  {
   "cell_type": "markdown",
   "metadata": {},
   "source": [
    "***\n",
    "### Greedy Search Method: K2 Algorithm"
   ]
  },
  {
   "cell_type": "markdown",
   "metadata": {},
   "source": [
    "The `K2 Algorithm` gives a computaionally optimized way to search for the most probable structure.\n",
    "Instead of maximizing the probability over all structures, one assumes that a node has no parents and incrementally adds that parent whose addition most increases the probability of the resulting structure.\n",
    "\n",
    "Therefore one computes the function:\n",
    "$$g(i,\\pi_i)=\\prod_{j=1}^{q_{i}}\\frac{(r_{i}-1)!}{(N_{ij}+r_{i}-1)}\\prod_{k=1}^{r_{i}}N_{ijk}!\\;\\;\\;\\;\\;\\;\\;\\;\\; (4)$$\n",
    "where $\\pi_i$ is the set of parents for node i which, according to the ordering assumption, is composed by all the variables preceding the $i$th one in the ordering. \n",
    "One incrementally adds one parent node to $\\pi_i$ at each iteration and if $g(i,\\pi_i')>g(i,\\pi_i)$ the node is permanently added to the parents and the structure probability ($g(i,\\pi_i)$) is updated."
   ]
  },
  {
   "cell_type": "markdown",
   "metadata": {},
   "source": [
    "### Problems and Further Improvements"
   ]
  },
  {
   "cell_type": "markdown",
   "metadata": {},
   "source": [
    "Bozza\n",
    "\n",
    "* Utilizzo dei logaritmi per i fattoriali\n",
    "* Possibilità di utilizzare K2 Reverse per confrontare i risultati\n",
    "* Problema per cicli for in R e implementazione con script C++\n",
    "* altro???? Forse sul samplong method per ottenere i dataset?"
   ]
  },
  {
   "cell_type": "code",
   "execution_count": 1,
   "metadata": {},
   "outputs": [],
   "source": [
    "library(Rcpp)"
   ]
  },
  {
   "cell_type": "code",
   "execution_count": 2,
   "metadata": {},
   "outputs": [],
   "source": [
    "order <- c(0,1,2)  \n",
    "r <- c(2,2,2)\n",
    "data <- matrix(c(1,0,0,1,1,1,0,0,1,1,1,1,0,0,0,0,1,1,1,1,1,0,0,0,1,1,1,0,0,0), 10,3)"
   ]
  },
  {
   "cell_type": "code",
   "execution_count": 3,
   "metadata": {
    "scrolled": true
   },
   "outputs": [],
   "source": [
    "sourceCpp('rk2alg.cpp')"
   ]
  },
  {
   "cell_type": "code",
   "execution_count": 6,
   "metadata": {},
   "outputs": [
    {
     "data": {
      "text/html": [
       "<ol>\n",
       "\t<li>-1</li>\n",
       "\t<li>0</li>\n",
       "\t<li>1</li>\n",
       "</ol>\n"
      ],
      "text/latex": [
       "\\begin{enumerate}\n",
       "\\item -1\n",
       "\\item 0\n",
       "\\item 1\n",
       "\\end{enumerate}\n"
      ],
      "text/markdown": [
       "1. -1\n",
       "2. 0\n",
       "3. 1\n",
       "\n",
       "\n"
      ],
      "text/plain": [
       "[[1]]\n",
       "[1] -1\n",
       "\n",
       "[[2]]\n",
       "[1] 0\n",
       "\n",
       "[[3]]\n",
       "[1] 1\n"
      ]
     },
     "metadata": {},
     "output_type": "display_data"
    }
   ],
   "source": [
    "k2procedure(data,r,order,2)"
   ]
  }
 ],
 "metadata": {
  "kernelspec": {
   "display_name": "R [conda env:r]",
   "language": "R",
   "name": "conda-env-r-r"
  },
  "language_info": {
   "codemirror_mode": "r",
   "file_extension": ".r",
   "mimetype": "text/x-r-source",
   "name": "R",
   "pygments_lexer": "r",
   "version": "3.6.0"
  }
 },
 "nbformat": 4,
 "nbformat_minor": 2
}
